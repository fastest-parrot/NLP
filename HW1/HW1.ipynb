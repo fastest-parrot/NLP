{
 "cells": [
  {
   "cell_type": "code",
   "execution_count": 110,
   "metadata": {},
   "outputs": [
    {
     "name": "stderr",
     "output_type": "stream",
     "text": [
      "[nltk_data] Downloading package punkt to\n",
      "[nltk_data]     C:\\Users\\SKENNEDY\\AppData\\Roaming\\nltk_data...\n",
      "[nltk_data]   Package punkt is already up-to-date!\n",
      "[nltk_data] Downloading package stopwords to\n",
      "[nltk_data]     C:\\Users\\SKENNEDY\\AppData\\Roaming\\nltk_data...\n",
      "[nltk_data]   Package stopwords is already up-to-date!\n"
     ]
    },
    {
     "data": {
      "text/plain": [
       "True"
      ]
     },
     "execution_count": 110,
     "metadata": {},
     "output_type": "execute_result"
    }
   ],
   "source": [
    "import nltk\n",
    "import requests\n",
    "from nltk import word_tokenize\n",
    "%matplotlib inline\n",
    "import pandas as pd\n",
    "import seaborn as sns\n",
    "from IPython.display import display, Markdown as md\n",
    "nltk.download('punkt')\n",
    "nltk.download('stopwords')\n",
    "from nltk.corpus import stopwords"
   ]
  },
  {
   "cell_type": "code",
   "execution_count": 111,
   "metadata": {},
   "outputs": [],
   "source": [
    "def summarize_text(url='http://www.gutenberg.org/ebooks/19923.txt.utf-8',\n",
    "                   text_min=5,\n",
    "                   show_top=20):\n",
    "    display(md(f'***Text summary {url}***'))\n",
    "    text = requests.get(url).text\n",
    "    tokens = word_tokenize(text)\n",
    "    display(md(f'*Raw tokens found: {len(tokens):,.0f}*'))\n",
    "    nltk_text = nltk.Text(tokens)\n",
    "    fdist = nltk.FreqDist(nltk_text)\n",
    "    display(\n",
    "        pd.DataFrame.from_dict(fdist, orient='index').rename(columns={\n",
    "            0: 'count'\n",
    "        }).sort_values(['count'], ascending=False).head(show_top))\n",
    "    fdist.plot(show_top, cumulative=True)\n",
    "    display(md(f'*Cleaning text....text_min:{text_min}...*'))\n",
    "    stop_words = set(stopwords.words('english'))\n",
    "    filtered_text = ' '.join(\n",
    "        [w for w in nltk_text if not w in stop_words and len(w) > text_min])\n",
    "    tokens_filtered = word_tokenize(filtered_text)\n",
    "    display(md(f'*Filtered tokens found: {len(tokens_filtered):,.0f}*'))\n",
    "    nltk_text_filtered = nltk.Text(tokens_filtered)\n",
    "    fdist_filtered = nltk.FreqDist(nltk_text_filtered)\n",
    "    display(\n",
    "        pd.DataFrame.from_dict(fdist_filtered,\n",
    "                               orient='index').rename(columns={\n",
    "                                   0: 'count'\n",
    "                               }).sort_values(['count'],\n",
    "                                              ascending=False).head(show_top))\n",
    "    fdist_filtered.plot(show_top, cumulative=True)\n",
    "    "
   ]
  },
  {
   "cell_type": "code",
   "execution_count": 112,
   "metadata": {
    "scrolled": false
   },
   "outputs": [
    {
     "data": {
      "text/markdown": [
       "***Text summary http://www.gutenberg.org/ebooks/19923.txt.utf-8***"
      ],
      "text/plain": [
       "<IPython.core.display.Markdown object>"
      ]
     },
     "metadata": {},
     "output_type": "display_data"
    },
    {
     "data": {
      "text/markdown": [
       "*Raw tokens found: 154,287*"
      ],
      "text/plain": [
       "<IPython.core.display.Markdown object>"
      ]
     },
     "metadata": {},
     "output_type": "display_data"
    },
    {
     "data": {
      "text/html": [
       "<div>\n",
       "<style scoped>\n",
       "    .dataframe tbody tr th:only-of-type {\n",
       "        vertical-align: middle;\n",
       "    }\n",
       "\n",
       "    .dataframe tbody tr th {\n",
       "        vertical-align: top;\n",
       "    }\n",
       "\n",
       "    .dataframe thead th {\n",
       "        text-align: right;\n",
       "    }\n",
       "</style>\n",
       "<table border=\"1\" class=\"dataframe\">\n",
       "  <thead>\n",
       "    <tr style=\"text-align: right;\">\n",
       "      <th></th>\n",
       "      <th>count</th>\n",
       "    </tr>\n",
       "  </thead>\n",
       "  <tbody>\n",
       "    <tr>\n",
       "      <th>,</th>\n",
       "      <td>12326</td>\n",
       "    </tr>\n",
       "    <tr>\n",
       "      <th>the</th>\n",
       "      <td>7642</td>\n",
       "    </tr>\n",
       "    <tr>\n",
       "      <th>of</th>\n",
       "      <td>4418</td>\n",
       "    </tr>\n",
       "    <tr>\n",
       "      <th>.</th>\n",
       "      <td>4410</td>\n",
       "    </tr>\n",
       "    <tr>\n",
       "      <th>and</th>\n",
       "      <td>4094</td>\n",
       "    </tr>\n",
       "    <tr>\n",
       "      <th>to</th>\n",
       "      <td>2859</td>\n",
       "    </tr>\n",
       "    <tr>\n",
       "      <th>a</th>\n",
       "      <td>2148</td>\n",
       "    </tr>\n",
       "    <tr>\n",
       "      <th>in</th>\n",
       "      <td>2136</td>\n",
       "    </tr>\n",
       "    <tr>\n",
       "      <th>;</th>\n",
       "      <td>1829</td>\n",
       "    </tr>\n",
       "    <tr>\n",
       "      <th>that</th>\n",
       "      <td>1319</td>\n",
       "    </tr>\n",
       "    <tr>\n",
       "      <th>is</th>\n",
       "      <td>1264</td>\n",
       "    </tr>\n",
       "    <tr>\n",
       "      <th>I</th>\n",
       "      <td>1215</td>\n",
       "    </tr>\n",
       "    <tr>\n",
       "      <th>with</th>\n",
       "      <td>1135</td>\n",
       "    </tr>\n",
       "    <tr>\n",
       "      <th>--</th>\n",
       "      <td>1077</td>\n",
       "    </tr>\n",
       "    <tr>\n",
       "      <th>his</th>\n",
       "      <td>1063</td>\n",
       "    </tr>\n",
       "    <tr>\n",
       "      <th>as</th>\n",
       "      <td>991</td>\n",
       "    </tr>\n",
       "    <tr>\n",
       "      <th>''</th>\n",
       "      <td>922</td>\n",
       "    </tr>\n",
       "    <tr>\n",
       "      <th>it</th>\n",
       "      <td>910</td>\n",
       "    </tr>\n",
       "    <tr>\n",
       "      <th>be</th>\n",
       "      <td>867</td>\n",
       "    </tr>\n",
       "    <tr>\n",
       "      <th>was</th>\n",
       "      <td>859</td>\n",
       "    </tr>\n",
       "  </tbody>\n",
       "</table>\n",
       "</div>"
      ],
      "text/plain": [
       "      count\n",
       ",     12326\n",
       "the    7642\n",
       "of     4418\n",
       ".      4410\n",
       "and    4094\n",
       "to     2859\n",
       "a      2148\n",
       "in     2136\n",
       ";      1829\n",
       "that   1319\n",
       "is     1264\n",
       "I      1215\n",
       "with   1135\n",
       "--     1077\n",
       "his    1063\n",
       "as      991\n",
       "''      922\n",
       "it      910\n",
       "be      867\n",
       "was     859"
      ]
     },
     "metadata": {},
     "output_type": "display_data"
    },
    {
     "data": {
      "image/png": "[encoded data removed]",
      "text/plain": [
       "<Figure size 432x288 with 1 Axes>"
      ]
     },
     "metadata": {
      "needs_background": "light"
     },
     "output_type": "display_data"
    },
    {
     "data": {
      "text/markdown": [
       "*Cleaning text....text_min:5...*"
      ],
      "text/plain": [
       "<IPython.core.display.Markdown object>"
      ]
     },
     "metadata": {},
     "output_type": "display_data"
    },
    {
     "data": {
      "text/markdown": [
       "*Filtered tokens found: 34,187*"
      ],
      "text/plain": [
       "<IPython.core.display.Markdown object>"
      ]
     },
     "metadata": {},
     "output_type": "display_data"
    },
    {
     "data": {
      "text/html": [
       "<div>\n",
       "<style scoped>\n",
       "    .dataframe tbody tr th:only-of-type {\n",
       "        vertical-align: middle;\n",
       "    }\n",
       "\n",
       "    .dataframe tbody tr th {\n",
       "        vertical-align: top;\n",
       "    }\n",
       "\n",
       "    .dataframe thead th {\n",
       "        text-align: right;\n",
       "    }\n",
       "</style>\n",
       "<table border=\"1\" class=\"dataframe\">\n",
       "  <thead>\n",
       "    <tr style=\"text-align: right;\">\n",
       "      <th></th>\n",
       "      <th>count</th>\n",
       "    </tr>\n",
       "  </thead>\n",
       "  <tbody>\n",
       "    <tr>\n",
       "      <th>.</th>\n",
       "      <td>139</td>\n",
       "    </tr>\n",
       "    <tr>\n",
       "      <th>without</th>\n",
       "      <td>103</td>\n",
       "    </tr>\n",
       "    <tr>\n",
       "      <th>little</th>\n",
       "      <td>100</td>\n",
       "    </tr>\n",
       "    <tr>\n",
       "      <th>Project</th>\n",
       "      <td>83</td>\n",
       "    </tr>\n",
       "    <tr>\n",
       "      <th>though</th>\n",
       "      <td>82</td>\n",
       "    </tr>\n",
       "    <tr>\n",
       "      <th>thought</th>\n",
       "      <td>81</td>\n",
       "    </tr>\n",
       "    <tr>\n",
       "      <th>nothing</th>\n",
       "      <td>76</td>\n",
       "    </tr>\n",
       "    <tr>\n",
       "      <th>things</th>\n",
       "      <td>71</td>\n",
       "    </tr>\n",
       "    <tr>\n",
       "      <th>utterance</th>\n",
       "      <td>70</td>\n",
       "    </tr>\n",
       "    <tr>\n",
       "      <th>country</th>\n",
       "      <td>68</td>\n",
       "    </tr>\n",
       "    <tr>\n",
       "      <th>people</th>\n",
       "      <td>63</td>\n",
       "    </tr>\n",
       "    <tr>\n",
       "      <th>another</th>\n",
       "      <td>56</td>\n",
       "    </tr>\n",
       "    <tr>\n",
       "      <th>spirit</th>\n",
       "      <td>56</td>\n",
       "    </tr>\n",
       "    <tr>\n",
       "      <th>Gutenberg-tm</th>\n",
       "      <td>56</td>\n",
       "    </tr>\n",
       "    <tr>\n",
       "      <th>intervals</th>\n",
       "      <td>55</td>\n",
       "    </tr>\n",
       "    <tr>\n",
       "      <th>heaven</th>\n",
       "      <td>55</td>\n",
       "    </tr>\n",
       "    <tr>\n",
       "      <th>reading</th>\n",
       "      <td>51</td>\n",
       "    </tr>\n",
       "    <tr>\n",
       "      <th>called</th>\n",
       "      <td>51</td>\n",
       "    </tr>\n",
       "    <tr>\n",
       "      <th>present</th>\n",
       "      <td>47</td>\n",
       "    </tr>\n",
       "    <tr>\n",
       "      <th>always</th>\n",
       "      <td>47</td>\n",
       "    </tr>\n",
       "  </tbody>\n",
       "</table>\n",
       "</div>"
      ],
      "text/plain": [
       "              count\n",
       ".               139\n",
       "without         103\n",
       "little          100\n",
       "Project          83\n",
       "though           82\n",
       "thought          81\n",
       "nothing          76\n",
       "things           71\n",
       "utterance        70\n",
       "country          68\n",
       "people           63\n",
       "another          56\n",
       "spirit           56\n",
       "Gutenberg-tm     56\n",
       "intervals        55\n",
       "heaven           55\n",
       "reading          51\n",
       "called           51\n",
       "present          47\n",
       "always           47"
      ]
     },
     "metadata": {},
     "output_type": "display_data"
    },
    {
     "data": {
      "image/png": "[encoded data removed]",
      "text/plain": [
       "<Figure size 432x288 with 1 Axes>"
      ]
     },
     "metadata": {
      "needs_background": "light"
     },
     "output_type": "display_data"
    }
   ],
   "source": [
    "summarize_text()"
   ]
  },
  {
   "cell_type": "code",
   "execution_count": 27,
   "metadata": {},
   "outputs": [],
   "source": [
    "text_hs = requests.get('http://www.gutenberg.org/ebooks/19923.txt.utf-8').text"
   ]
  },
  {
   "cell_type": "code",
   "execution_count": 28,
   "metadata": {},
   "outputs": [],
   "source": [
    "tokens_hs = word_tokenize(text_hs)"
   ]
  },
  {
   "cell_type": "code",
   "execution_count": 29,
   "metadata": {
    "scrolled": true
   },
   "outputs": [
    {
     "data": {
      "text/plain": [
       "154287"
      ]
     },
     "execution_count": 29,
     "metadata": {},
     "output_type": "execute_result"
    }
   ],
   "source": [
    "len(tokens_hs)"
   ]
  },
  {
   "cell_type": "code",
   "execution_count": 30,
   "metadata": {},
   "outputs": [],
   "source": [
    "text_hs = nltk.Text(tokens_hs)"
   ]
  },
  {
   "cell_type": "code",
   "execution_count": 31,
   "metadata": {
    "scrolled": false
   },
   "outputs": [
    {
     "name": "stdout",
     "output_type": "stream",
     "text": [
      "Project Gutenberg-tm; _Sir Pet._; _Lady Teaz._; Grand Master; Project\n",
      "Gutenberg; Mr. Winkle; Mr. Pickwick; Uncle Tim; Literary Archive;\n",
      "Gutenberg-tm electronic; Archive Foundation; Sir Peter; Gutenberg\n",
      "Literary; electronic works; United States; Dr. Johnson; Lady Teazle;\n",
      "David Swan; _Lady Sneer._; _Sir Ben._\n"
     ]
    }
   ],
   "source": [
    "text_hs.collocations()"
   ]
  },
  {
   "cell_type": "code",
   "execution_count": 32,
   "metadata": {
    "scrolled": true
   },
   "outputs": [
    {
     "data": {
      "text/plain": [
       "[',',\n",
       " 'by',\n",
       " 'the_',\n",
       " 'MINISTER',\n",
       " 'OF',\n",
       " 'EDUCATION',\n",
       " '_for',\n",
       " 'Ontario',\n",
       " ',',\n",
       " 'in',\n",
       " 'the',\n",
       " 'Office',\n",
       " 'of',\n",
       " 'the',\n",
       " 'Minister',\n",
       " 'of',\n",
       " 'Agriculture._',\n",
       " 'PRINTED',\n",
       " 'AND',\n",
       " 'BOUND',\n",
       " 'BY',\n",
       " 'HUNTER',\n",
       " ',',\n",
       " 'ROSE',\n",
       " '&',\n",
       " 'CO.',\n",
       " ',',\n",
       " 'TORONTO',\n",
       " '.',\n",
       " 'PREFACE',\n",
       " '.',\n",
       " 'The',\n",
       " 'selections',\n",
       " 'in',\n",
       " 'the',\n",
       " 'HIGH',\n",
       " 'SCHOOL',\n",
       " 'READER',\n",
       " 'have',\n",
       " 'been',\n",
       " 'chosen',\n",
       " 'with',\n",
       " 'the',\n",
       " 'belief',\n",
       " 'that',\n",
       " 'to',\n",
       " 'pupils',\n",
       " 'of',\n",
       " 'such',\n",
       " 'advancement',\n",
       " 'as',\n",
       " 'is',\n",
       " 'required',\n",
       " 'for',\n",
       " 'entrance',\n",
       " 'into',\n",
       " 'High',\n",
       " 'Schools',\n",
       " 'and',\n",
       " 'Collegiate',\n",
       " 'Institutes',\n",
       " ',',\n",
       " 'oral',\n",
       " 'reading',\n",
       " 'should',\n",
       " 'be',\n",
       " 'taught',\n",
       " 'from',\n",
       " 'the',\n",
       " 'best',\n",
       " 'literature',\n",
       " ',',\n",
       " 'inasmuch',\n",
       " 'as',\n",
       " 'it',\n",
       " 'not',\n",
       " 'only',\n",
       " 'affords',\n",
       " 'a',\n",
       " 'wide',\n",
       " 'range',\n",
       " 'of',\n",
       " 'thought',\n",
       " 'and',\n",
       " 'sentiment',\n",
       " ',',\n",
       " 'but',\n",
       " 'it',\n",
       " 'also',\n",
       " 'demands',\n",
       " 'for',\n",
       " 'its',\n",
       " 'appropriate',\n",
       " 'vocal',\n",
       " 'interpretation',\n",
       " 'such',\n",
       " 'powers',\n",
       " 'of',\n",
       " 'sympathy',\n",
       " 'and',\n",
       " 'appreciation',\n",
       " 'as',\n",
       " 'are',\n",
       " 'developed',\n",
       " 'only',\n",
       " 'by',\n",
       " 'culture',\n",
       " ';',\n",
       " 'and',\n",
       " 'it',\n",
       " 'is',\n",
       " 'to',\n",
       " 'impart',\n",
       " 'culture',\n",
       " 'that',\n",
       " 'these',\n",
       " 'institutions',\n",
       " 'of',\n",
       " 'higher',\n",
       " 'learning',\n",
       " 'have',\n",
       " 'been',\n",
       " 'established',\n",
       " '.',\n",
       " 'Experience',\n",
       " 'has',\n",
       " 'shown',\n",
       " 'that',\n",
       " 'it',\n",
       " 'is',\n",
       " 'from',\n",
       " 'their',\n",
       " 'ordinary',\n",
       " 'reading',\n",
       " 'books',\n",
       " 'that',\n",
       " 'pupils',\n",
       " 'obtain',\n",
       " 'their',\n",
       " 'chief',\n",
       " 'practical',\n",
       " 'acquaintance',\n",
       " 'with',\n",
       " 'literature',\n",
       " ',',\n",
       " 'and',\n",
       " 'the',\n",
       " 'selections',\n",
       " 'here',\n",
       " 'presented',\n",
       " 'have',\n",
       " 'been',\n",
       " 'made',\n",
       " 'with',\n",
       " 'this',\n",
       " 'in',\n",
       " 'remembrance',\n",
       " '.',\n",
       " 'They',\n",
       " 'have',\n",
       " 'been',\n",
       " 'taken',\n",
       " 'from',\n",
       " 'the',\n",
       " 'writings',\n",
       " 'of',\n",
       " 'authors',\n",
       " 'of',\n",
       " 'acknowledged',\n",
       " 'representative',\n",
       " 'character',\n",
       " ';',\n",
       " 'and',\n",
       " 'they',\n",
       " 'have',\n",
       " 'been',\n",
       " 'arranged',\n",
       " 'for',\n",
       " 'the',\n",
       " 'most',\n",
       " 'part',\n",
       " 'chronologically',\n",
       " ',',\n",
       " 'so',\n",
       " 'that',\n",
       " 'pupils',\n",
       " 'may',\n",
       " 'unconsciously',\n",
       " 'obtain',\n",
       " 'some',\n",
       " 'little',\n",
       " 'insight',\n",
       " 'into',\n",
       " 'the',\n",
       " 'history',\n",
       " 'of',\n",
       " 'the',\n",
       " 'development',\n",
       " 'of',\n",
       " 'the',\n",
       " 'literary',\n",
       " 'art',\n",
       " '.',\n",
       " 'They',\n",
       " 'have',\n",
       " 'also',\n",
       " 'been',\n",
       " 'so',\n",
       " 'chosen',\n",
       " 'as',\n",
       " 'to',\n",
       " 'convey',\n",
       " 'a',\n",
       " 'somewhat',\n",
       " 'fair',\n",
       " 'idea',\n",
       " 'of',\n",
       " 'the',\n",
       " 'relative',\n",
       " 'value',\n",
       " 'and',\n",
       " 'productivity',\n",
       " 'of',\n",
       " 'authorship',\n",
       " 'in',\n",
       " 'the',\n",
       " 'three',\n",
       " 'great',\n",
       " 'English-speaking',\n",
       " 'communities',\n",
       " 'of',\n",
       " 'the',\n",
       " 'world',\n",
       " '--',\n",
       " 'the',\n",
       " 'mother',\n",
       " 'countries',\n",
       " ',',\n",
       " 'our',\n",
       " 'neighbours',\n",
       " \"'\",\n",
       " 'country',\n",
       " ',',\n",
       " 'and',\n",
       " 'our',\n",
       " 'own',\n",
       " '.',\n",
       " 'While',\n",
       " 'a',\n",
       " 'limited',\n",
       " 'space',\n",
       " ',',\n",
       " 'if',\n",
       " 'nothing',\n",
       " 'else',\n",
       " ',',\n",
       " 'prevents',\n",
       " 'the',\n",
       " 'collection',\n",
       " 'here',\n",
       " 'made',\n",
       " 'from',\n",
       " 'being',\n",
       " 'a',\n",
       " 'complete',\n",
       " 'anthology',\n",
       " ',',\n",
       " 'yet',\n",
       " 'it',\n",
       " 'does',\n",
       " 'pretend',\n",
       " 'to',\n",
       " 'represent',\n",
       " 'the',\n",
       " 'authors',\n",
       " 'selected',\n",
       " 'in',\n",
       " 'characteristic',\n",
       " 'moods',\n",
       " ',',\n",
       " 'and',\n",
       " '(',\n",
       " 'in',\n",
       " 'so',\n",
       " 'far',\n",
       " 'as',\n",
       " 'is',\n",
       " 'possible',\n",
       " 'in',\n",
       " 'a',\n",
       " 'school',\n",
       " 'book',\n",
       " ',',\n",
       " 'and',\n",
       " 'a',\n",
       " 'reading',\n",
       " 'text-book',\n",
       " ')',\n",
       " 'to',\n",
       " 'present']"
      ]
     },
     "execution_count": 32,
     "metadata": {},
     "output_type": "execute_result"
    }
   ],
   "source": [
    "text_hs[200:500]"
   ]
  },
  {
   "cell_type": "code",
   "execution_count": 33,
   "metadata": {},
   "outputs": [],
   "source": [
    "fdist_hs = nltk.FreqDist(text_hs)"
   ]
  },
  {
   "cell_type": "code",
   "execution_count": 34,
   "metadata": {
    "scrolled": true
   },
   "outputs": [
    {
     "data": {
      "text/plain": [
       "[(',', 12326),\n",
       " ('the', 7642),\n",
       " ('of', 4418),\n",
       " ('.', 4410),\n",
       " ('and', 4094),\n",
       " ('to', 2859),\n",
       " ('a', 2148),\n",
       " ('in', 2136),\n",
       " (';', 1829),\n",
       " ('that', 1319),\n",
       " ('is', 1264),\n",
       " ('I', 1215),\n",
       " ('with', 1135),\n",
       " ('--', 1077),\n",
       " ('his', 1063),\n",
       " ('as', 991),\n",
       " (\"''\", 922),\n",
       " ('it', 910),\n",
       " ('be', 867),\n",
       " ('was', 859),\n",
       " ('!', 850),\n",
       " ('``', 834),\n",
       " ('for', 826),\n",
       " ('he', 780),\n",
       " ('not', 770),\n",
       " ('The', 734),\n",
       " ('or', 712),\n",
       " ('And', 683),\n",
       " ('by', 663),\n",
       " ('which', 636),\n",
       " (\"'d\", 625),\n",
       " (\"'s\", 620),\n",
       " (':', 583),\n",
       " ('their', 573),\n",
       " ('they', 572),\n",
       " ('all', 570),\n",
       " ('on', 568),\n",
       " ('from', 562),\n",
       " ('you', 552),\n",
       " ('have', 551),\n",
       " ('my', 529),\n",
       " ('but', 514),\n",
       " ('this', 511),\n",
       " ('are', 507),\n",
       " ('?', 484),\n",
       " ('at', 476),\n",
       " ('had', 430),\n",
       " ('her', 383),\n",
       " ('so', 375),\n",
       " ('him', 360)]"
      ]
     },
     "execution_count": 34,
     "metadata": {},
     "output_type": "execute_result"
    }
   ],
   "source": [
    "fdist_hs.most_common(50)"
   ]
  },
  {
   "cell_type": "code",
   "execution_count": 35,
   "metadata": {},
   "outputs": [
    {
     "data": {
      "image/png": "[encoded data removed]",
      "text/plain": [
       "<Figure size 432x288 with 1 Axes>"
      ]
     },
     "metadata": {
      "needs_background": "light"
     },
     "output_type": "display_data"
    },
    {
     "data": {
      "text/plain": [
       "<matplotlib.axes._subplots.AxesSubplot at 0x1ffb9da0048>"
      ]
     },
     "execution_count": 35,
     "metadata": {},
     "output_type": "execute_result"
    }
   ],
   "source": [
    "fdist_hs.plot(50, cumulative=True)"
   ]
  },
  {
   "cell_type": "code",
   "execution_count": 36,
   "metadata": {},
   "outputs": [],
   "source": []
  },
  {
   "cell_type": "code",
   "execution_count": 37,
   "metadata": {},
   "outputs": [],
   "source": []
  },
  {
   "cell_type": "code",
   "execution_count": 77,
   "metadata": {},
   "outputs": [],
   "source": [
    "filtered_hs = [w for w in text_hs if not w in stop_words and len(w) > 5]  "
   ]
  },
  {
   "cell_type": "code",
   "execution_count": 78,
   "metadata": {},
   "outputs": [],
   "source": [
    "text_hs = ' '.join([x for x in filtered_hs])"
   ]
  },
  {
   "cell_type": "code",
   "execution_count": 79,
   "metadata": {
    "scrolled": true
   },
   "outputs": [],
   "source": [
    "tokens_hs = word_tokenize(text_hs)"
   ]
  },
  {
   "cell_type": "code",
   "execution_count": 80,
   "metadata": {},
   "outputs": [
    {
     "data": {
      "text/plain": [
       "33936"
      ]
     },
     "execution_count": 80,
     "metadata": {},
     "output_type": "execute_result"
    }
   ],
   "source": [
    "len(tokens_hs)"
   ]
  },
  {
   "cell_type": "code",
   "execution_count": 81,
   "metadata": {},
   "outputs": [],
   "source": [
    "text_hs = nltk.Text(tokens_hs)"
   ]
  },
  {
   "cell_type": "code",
   "execution_count": 82,
   "metadata": {},
   "outputs": [],
   "source": [
    "fdist_hs = nltk.FreqDist(text_hs)"
   ]
  },
  {
   "cell_type": "code",
   "execution_count": 115,
   "metadata": {},
   "outputs": [
    {
     "data": {
      "image/png": "[encoded data removed]",
      "text/plain": [
       "<Figure size 432x288 with 1 Axes>"
      ]
     },
     "metadata": {
      "needs_background": "light"
     },
     "output_type": "display_data"
    },
    {
     "data": {
      "text/plain": [
       "<matplotlib.axes._subplots.AxesSubplot at 0x1ffbf65f518>"
      ]
     },
     "execution_count": 115,
     "metadata": {},
     "output_type": "execute_result"
    }
   ],
   "source": [
    "fdist_hs.plot(20, cumulative=True)"
   ]
  },
  {
   "cell_type": "code",
   "execution_count": 114,
   "metadata": {},
   "outputs": [
    {
     "data": {
      "text/html": [
       "<div>\n",
       "<style scoped>\n",
       "    .dataframe tbody tr th:only-of-type {\n",
       "        vertical-align: middle;\n",
       "    }\n",
       "\n",
       "    .dataframe tbody tr th {\n",
       "        vertical-align: top;\n",
       "    }\n",
       "\n",
       "    .dataframe thead th {\n",
       "        text-align: right;\n",
       "    }\n",
       "</style>\n",
       "<table border=\"1\" class=\"dataframe\">\n",
       "  <thead>\n",
       "    <tr style=\"text-align: right;\">\n",
       "      <th></th>\n",
       "      <th>count</th>\n",
       "    </tr>\n",
       "  </thead>\n",
       "  <tbody>\n",
       "    <tr>\n",
       "      <th>without</th>\n",
       "      <td>103</td>\n",
       "    </tr>\n",
       "    <tr>\n",
       "      <th>little</th>\n",
       "      <td>100</td>\n",
       "    </tr>\n",
       "    <tr>\n",
       "      <th>Project</th>\n",
       "      <td>83</td>\n",
       "    </tr>\n",
       "    <tr>\n",
       "      <th>though</th>\n",
       "      <td>82</td>\n",
       "    </tr>\n",
       "    <tr>\n",
       "      <th>thought</th>\n",
       "      <td>81</td>\n",
       "    </tr>\n",
       "    <tr>\n",
       "      <th>nothing</th>\n",
       "      <td>76</td>\n",
       "    </tr>\n",
       "    <tr>\n",
       "      <th>things</th>\n",
       "      <td>71</td>\n",
       "    </tr>\n",
       "    <tr>\n",
       "      <th>utterance</th>\n",
       "      <td>70</td>\n",
       "    </tr>\n",
       "    <tr>\n",
       "      <th>country</th>\n",
       "      <td>68</td>\n",
       "    </tr>\n",
       "    <tr>\n",
       "      <th>people</th>\n",
       "      <td>63</td>\n",
       "    </tr>\n",
       "    <tr>\n",
       "      <th>Gutenberg-tm</th>\n",
       "      <td>56</td>\n",
       "    </tr>\n",
       "    <tr>\n",
       "      <th>another</th>\n",
       "      <td>56</td>\n",
       "    </tr>\n",
       "    <tr>\n",
       "      <th>spirit</th>\n",
       "      <td>56</td>\n",
       "    </tr>\n",
       "    <tr>\n",
       "      <th>heaven</th>\n",
       "      <td>55</td>\n",
       "    </tr>\n",
       "    <tr>\n",
       "      <th>intervals</th>\n",
       "      <td>55</td>\n",
       "    </tr>\n",
       "    <tr>\n",
       "      <th>reading</th>\n",
       "      <td>51</td>\n",
       "    </tr>\n",
       "    <tr>\n",
       "      <th>called</th>\n",
       "      <td>51</td>\n",
       "    </tr>\n",
       "    <tr>\n",
       "      <th>expression</th>\n",
       "      <td>47</td>\n",
       "    </tr>\n",
       "    <tr>\n",
       "      <th>present</th>\n",
       "      <td>47</td>\n",
       "    </tr>\n",
       "    <tr>\n",
       "      <th>always</th>\n",
       "      <td>47</td>\n",
       "    </tr>\n",
       "  </tbody>\n",
       "</table>\n",
       "</div>"
      ],
      "text/plain": [
       "              count\n",
       "without         103\n",
       "little          100\n",
       "Project          83\n",
       "though           82\n",
       "thought          81\n",
       "nothing          76\n",
       "things           71\n",
       "utterance        70\n",
       "country          68\n",
       "people           63\n",
       "Gutenberg-tm     56\n",
       "another          56\n",
       "spirit           56\n",
       "heaven           55\n",
       "intervals        55\n",
       "reading          51\n",
       "called           51\n",
       "expression       47\n",
       "present          47\n",
       "always           47"
      ]
     },
     "execution_count": 114,
     "metadata": {},
     "output_type": "execute_result"
    }
   ],
   "source": [
    "pd.DataFrame.from_dict(fdist_hs, orient='index').rename(columns={\n",
    "    0: 'count'\n",
    "}).sort_values(['count'], ascending=False).head(20)"
   ]
  },
  {
   "cell_type": "code",
   "execution_count": null,
   "metadata": {},
   "outputs": [],
   "source": []
  }
 ],
 "metadata": {
  "hide_input": false,
  "kernelspec": {
   "display_name": "Python 3",
   "language": "python",
   "name": "python3"
  },
  "language_info": {
   "codemirror_mode": {
    "name": "ipython",
    "version": 3
   },
   "file_extension": ".py",
   "mimetype": "text/x-python",
   "name": "python",
   "nbconvert_exporter": "python",
   "pygments_lexer": "ipython3",
   "version": "3.7.0"
  },
  "latex_envs": {
   "LaTeX_envs_menu_present": true,
   "autoclose": false,
   "autocomplete": true,
   "bibliofile": "biblio.bib",
   "cite_by": "apalike",
   "current_citInitial": 1,
   "eqLabelWithNumbers": true,
   "eqNumInitial": 1,
   "hotkeys": {
    "equation": "Ctrl-E",
    "itemize": "Ctrl-I"
   },
   "labels_anchors": false,
   "latex_user_defs": false,
   "report_style_numbering": false,
   "user_envs_cfg": false
  }
 },
 "nbformat": 4,
 "nbformat_minor": 2
}
