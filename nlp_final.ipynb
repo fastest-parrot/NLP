{
 "cells": [
  {
   "cell_type": "code",
   "execution_count": 45,
   "metadata": {},
   "outputs": [],
   "source": [
    "def get_jaccard_sim(str1, str2): \n",
    "    a = set(str1.split()) \n",
    "    b = set(str2.split())\n",
    "    c = a.intersection(b)\n",
    "    print(len(a),len(b), c)\n",
    "    return float(len(c)) / (len(a) + len(b) - len(c))"
   ]
  },
  {
   "cell_type": "code",
   "execution_count": 16,
   "metadata": {},
   "outputs": [],
   "source": [
    "import pandas as pd"
   ]
  },
  {
   "cell_type": "code",
   "execution_count": 40,
   "metadata": {},
   "outputs": [],
   "source": [
    "from collections import Counter\n",
    "from sklearn.feature_extraction.text import CountVectorizer\n",
    "from sklearn.metrics.pairwise import cosine_similarity\n",
    "def get_cosine_sim(*strs): \n",
    "    vectors = [t for t in get_vectors(*strs)]\n",
    "    print(vectors)\n",
    "    return cosine_similarity(vectors)[0,1]\n",
    "    \n",
    "def get_vectors(*strs):\n",
    "    text = [t for t in strs]\n",
    "    print(text)\n",
    "    vectorizer = CountVectorizer(text)\n",
    "    vectorizer.fit(text)\n",
    "    return vectorizer.transform(text).toarray()"
   ]
  },
  {
   "cell_type": "code",
   "execution_count": 27,
   "metadata": {},
   "outputs": [],
   "source": [
    "titles = pd.DataFrame([(\n",
    "    '50 Inch Class H6570G 4K Ultra HD Android Smart TV with Alexa Compatibility 2.5” 2020 Model Black Silver White HDR LED',\n",
    "    'Hisense H6570G'),\n",
    "                       ('QN75Q90TAFXZA crystal 2.5” Quantum LCD',\n",
    "                        'Samsung crystal UN55TU8000FXZA QLED'),\n",
    "('EGLF2 50 Ultra Full Motion Articulating TV Wall Mount Bracket swivel full', 'VIZIO EGLF2')],\n",
    "                      columns=['Site1', 'Site2'])"
   ]
  },
  {
   "cell_type": "code",
   "execution_count": 43,
   "metadata": {},
   "outputs": [
    {
     "name": "stdout",
     "output_type": "stream",
     "text": [
      "['50 Inch Class H6570G 4K Ultra HD Android Smart TV with Alexa Compatibility 2.5” 2020 Model Black Silver White HDR LED', 'Hisense H6570G']\n",
      "[array([1, 1, 1, 1, 1, 1, 1, 1, 1, 1, 1, 0, 1, 1, 1, 1, 1, 1, 1, 1, 1],\n",
      "      dtype=int64), array([0, 0, 0, 0, 0, 0, 0, 0, 1, 0, 0, 1, 0, 0, 0, 0, 0, 0, 0, 0, 0],\n",
      "      dtype=int64)]\n",
      "['QN75Q90TAFXZA crystal 2.5” Quantum LCD', 'Samsung crystal UN55TU8000FXZA QLED']\n",
      "[array([1, 1, 0, 1, 1, 0, 0], dtype=int64), array([1, 0, 1, 0, 0, 1, 1], dtype=int64)]\n",
      "['EGLF2 50 Ultra Full Motion Articulating TV Wall Mount Bracket swivel full', 'VIZIO EGLF2']\n",
      "[array([1, 1, 1, 1, 2, 1, 1, 1, 1, 1, 0, 1], dtype=int64), array([0, 0, 0, 1, 0, 0, 0, 0, 0, 0, 1, 0], dtype=int64)]\n"
     ]
    }
   ],
   "source": [
    "titles['cosine_sim'] = titles.apply(lambda x: get_cosine_sim(x['Site1'], x['Site2']), axis=1)"
   ]
  },
  {
   "cell_type": "code",
   "execution_count": 46,
   "metadata": {},
   "outputs": [
    {
     "name": "stdout",
     "output_type": "stream",
     "text": [
      "21 2 {'H6570G'}\n",
      "5 4 {'crystal'}\n",
      "12 2 {'EGLF2'}\n"
     ]
    }
   ],
   "source": [
    "titles['jaccard_sim'] = titles.apply(lambda x: get_jaccard_sim(x['Site1'], x['Site2']), axis=1)"
   ]
  },
  {
   "cell_type": "code",
   "execution_count": 34,
   "metadata": {},
   "outputs": [],
   "source": [
    "titles['len_1'] = titles.apply(lambda x: len(set(x['Site1'].split(' '))), axis=1)\n",
    "titles['len_2'] = titles.apply(lambda x: len(set(x['Site2'].split(' '))), axis=1)"
   ]
  },
  {
   "cell_type": "code",
   "execution_count": 35,
   "metadata": {
    "scrolled": false
   },
   "outputs": [
    {
     "data": {
      "text/html": [
       "<div>\n",
       "<style scoped>\n",
       "    .dataframe tbody tr th:only-of-type {\n",
       "        vertical-align: middle;\n",
       "    }\n",
       "\n",
       "    .dataframe tbody tr th {\n",
       "        vertical-align: top;\n",
       "    }\n",
       "\n",
       "    .dataframe thead th {\n",
       "        text-align: right;\n",
       "    }\n",
       "</style>\n",
       "<table border=\"1\" class=\"dataframe\">\n",
       "  <thead>\n",
       "    <tr style=\"text-align: right;\">\n",
       "      <th></th>\n",
       "      <th>Site1</th>\n",
       "      <th>Site2</th>\n",
       "      <th>cosine_sim</th>\n",
       "      <th>jaccard_sim</th>\n",
       "      <th>len_1</th>\n",
       "      <th>len_2</th>\n",
       "    </tr>\n",
       "  </thead>\n",
       "  <tbody>\n",
       "    <tr>\n",
       "      <th>0</th>\n",
       "      <td>50 Inch Class H6570G 4K Ultra HD Android Smart...</td>\n",
       "      <td>Hisense H6570G</td>\n",
       "      <td>0.158114</td>\n",
       "      <td>0.045455</td>\n",
       "      <td>21</td>\n",
       "      <td>2</td>\n",
       "    </tr>\n",
       "    <tr>\n",
       "      <th>1</th>\n",
       "      <td>QN75Q90TAFXZA crystal 2.5” Quantum LCD</td>\n",
       "      <td>Samsung crystal UN55TU8000FXZA QLED</td>\n",
       "      <td>0.250000</td>\n",
       "      <td>0.125000</td>\n",
       "      <td>5</td>\n",
       "      <td>4</td>\n",
       "    </tr>\n",
       "    <tr>\n",
       "      <th>2</th>\n",
       "      <td>EGLF2 50 Ultra Full Motion Articulating TV Wal...</td>\n",
       "      <td>VIZIO EGLF2</td>\n",
       "      <td>0.188982</td>\n",
       "      <td>0.076923</td>\n",
       "      <td>12</td>\n",
       "      <td>2</td>\n",
       "    </tr>\n",
       "  </tbody>\n",
       "</table>\n",
       "</div>"
      ],
      "text/plain": [
       "                                               Site1  \\\n",
       "0  50 Inch Class H6570G 4K Ultra HD Android Smart...   \n",
       "1             QN75Q90TAFXZA crystal 2.5” Quantum LCD   \n",
       "2  EGLF2 50 Ultra Full Motion Articulating TV Wal...   \n",
       "\n",
       "                                 Site2  cosine_sim  jaccard_sim  len_1  len_2  \n",
       "0                       Hisense H6570G    0.158114     0.045455     21      2  \n",
       "1  Samsung crystal UN55TU8000FXZA QLED    0.250000     0.125000      5      4  \n",
       "2                          VIZIO EGLF2    0.188982     0.076923     12      2  "
      ]
     },
     "execution_count": 35,
     "metadata": {},
     "output_type": "execute_result"
    }
   ],
   "source": [
    "titles"
   ]
  },
  {
   "cell_type": "code",
   "execution_count": 10,
   "metadata": {},
   "outputs": [],
   "source": [
    "def x(*test):\n",
    "    print(test)\n",
    "    pass"
   ]
  },
  {
   "cell_type": "code",
   "execution_count": 12,
   "metadata": {},
   "outputs": [
    {
     "name": "stdout",
     "output_type": "stream",
     "text": [
      "(['50 Inch Class H6570G 4K Ultra HD Android Smart TV with Alexa Compatibility 2.5” 2020 Model Black Silver White HDR LED', 'Hisense H6570G'],)\n"
     ]
    }
   ],
   "source": [
    "x(titles[0])"
   ]
  },
  {
   "cell_type": "code",
   "execution_count": 37,
   "metadata": {},
   "outputs": [],
   "source": [
    "adj_titles = pd.DataFrame([(\n",
    "    'H6570G 4K Compatibility Model HDR',\n",
    "    'Hisense H6570G'),\n",
    "                       ('QN75Q90TAFXZA crystal',\n",
    "                        'crystal UN55TU8000FXZA'),\n",
    "('EGLF2 Mount Bracket', 'VIZIO EGLF2')],\n",
    "                      columns=['Site1', 'Site2'])"
   ]
  },
  {
   "cell_type": "code",
   "execution_count": 41,
   "metadata": {},
   "outputs": [
    {
     "name": "stdout",
     "output_type": "stream",
     "text": [
      "['H6570G 4K Compatibility Model HDR', 'Hisense H6570G']\n",
      "[array([1, 1, 1, 1, 0, 1], dtype=int64), array([0, 0, 1, 0, 1, 0], dtype=int64)]\n",
      "['QN75Q90TAFXZA crystal', 'crystal UN55TU8000FXZA']\n",
      "[array([1, 1, 0], dtype=int64), array([1, 0, 1], dtype=int64)]\n",
      "['EGLF2 Mount Bracket', 'VIZIO EGLF2']\n",
      "[array([1, 1, 1, 0], dtype=int64), array([0, 1, 0, 1], dtype=int64)]\n"
     ]
    }
   ],
   "source": [
    "adj_titles['cosine_sim'] = adj_titles.apply(lambda x: get_cosine_sim(x['Site1'], x['Site2']), axis=1)\n",
    "adj_titles['jaccard_sim'] = adj_titles.apply(lambda x: get_jaccard_sim(x['Site1'], x['Site2']), axis=1)\n",
    "adj_titles['len_1'] = adj_titles.apply(lambda x: len(set(x['Site1'].split(' '))), axis=1)\n",
    "adj_titles['len_2'] = adj_titles.apply(lambda x: len(set(x['Site2'].split(' '))), axis=1)"
   ]
  },
  {
   "cell_type": "code",
   "execution_count": 39,
   "metadata": {},
   "outputs": [
    {
     "data": {
      "text/html": [
       "<div>\n",
       "<style scoped>\n",
       "    .dataframe tbody tr th:only-of-type {\n",
       "        vertical-align: middle;\n",
       "    }\n",
       "\n",
       "    .dataframe tbody tr th {\n",
       "        vertical-align: top;\n",
       "    }\n",
       "\n",
       "    .dataframe thead th {\n",
       "        text-align: right;\n",
       "    }\n",
       "</style>\n",
       "<table border=\"1\" class=\"dataframe\">\n",
       "  <thead>\n",
       "    <tr style=\"text-align: right;\">\n",
       "      <th></th>\n",
       "      <th>Site1</th>\n",
       "      <th>Site2</th>\n",
       "      <th>cosine_sim</th>\n",
       "      <th>jaccard_sim</th>\n",
       "      <th>len_1</th>\n",
       "      <th>len_2</th>\n",
       "    </tr>\n",
       "  </thead>\n",
       "  <tbody>\n",
       "    <tr>\n",
       "      <th>0</th>\n",
       "      <td>H6570G 4K Compatibility Model HDR</td>\n",
       "      <td>Hisense H6570G</td>\n",
       "      <td>0.316228</td>\n",
       "      <td>0.166667</td>\n",
       "      <td>5</td>\n",
       "      <td>2</td>\n",
       "    </tr>\n",
       "    <tr>\n",
       "      <th>1</th>\n",
       "      <td>QN75Q90TAFXZA crystal</td>\n",
       "      <td>crystal UN55TU8000FXZA</td>\n",
       "      <td>0.500000</td>\n",
       "      <td>0.333333</td>\n",
       "      <td>2</td>\n",
       "      <td>2</td>\n",
       "    </tr>\n",
       "    <tr>\n",
       "      <th>2</th>\n",
       "      <td>EGLF2 Mount Bracket</td>\n",
       "      <td>VIZIO EGLF2</td>\n",
       "      <td>0.408248</td>\n",
       "      <td>0.250000</td>\n",
       "      <td>3</td>\n",
       "      <td>2</td>\n",
       "    </tr>\n",
       "  </tbody>\n",
       "</table>\n",
       "</div>"
      ],
      "text/plain": [
       "                               Site1                   Site2  cosine_sim  \\\n",
       "0  H6570G 4K Compatibility Model HDR          Hisense H6570G    0.316228   \n",
       "1              QN75Q90TAFXZA crystal  crystal UN55TU8000FXZA    0.500000   \n",
       "2                EGLF2 Mount Bracket             VIZIO EGLF2    0.408248   \n",
       "\n",
       "   jaccard_sim  len_1  len_2  \n",
       "0     0.166667      5      2  \n",
       "1     0.333333      2      2  \n",
       "2     0.250000      3      2  "
      ]
     },
     "execution_count": 39,
     "metadata": {},
     "output_type": "execute_result"
    }
   ],
   "source": [
    "adj_titles"
   ]
  },
  {
   "cell_type": "code",
   "execution_count": 47,
   "metadata": {},
   "outputs": [
    {
     "data": {
      "text/plain": [
       "13"
      ]
     },
     "execution_count": 47,
     "metadata": {},
     "output_type": "execute_result"
    }
   ],
   "source": [
    "len('QN75Q90TAFXZA')"
   ]
  },
  {
   "cell_type": "code",
   "execution_count": 49,
   "metadata": {},
   "outputs": [
    {
     "data": {
      "text/plain": [
       "14"
      ]
     },
     "execution_count": 49,
     "metadata": {},
     "output_type": "execute_result"
    }
   ],
   "source": [
    "len('UN55TU8000FXZA')"
   ]
  },
  {
   "cell_type": "code",
   "execution_count": 54,
   "metadata": {},
   "outputs": [
    {
     "data": {
      "text/plain": [
       "['Q', 'N', '7', '5', 'Q', '9', '0', 'T', 'A', 'F', 'X', 'Z', 'A']"
      ]
     },
     "execution_count": 54,
     "metadata": {},
     "output_type": "execute_result"
    }
   ],
   "source": [
    "' '.join('QN75Q90TAFXZA').split(' ')"
   ]
  },
  {
   "cell_type": "code",
   "execution_count": 56,
   "metadata": {},
   "outputs": [
    {
     "name": "stdout",
     "output_type": "stream",
     "text": [
      "['QN75Q90TAFXZA', 'UN55TU8000FXZA']\n",
      "[array([1, 0], dtype=int64), array([0, 1], dtype=int64)]\n"
     ]
    },
    {
     "data": {
      "text/plain": [
       "0.0"
      ]
     },
     "execution_count": 56,
     "metadata": {},
     "output_type": "execute_result"
    }
   ],
   "source": [
    "get_cosine_sim('QN75Q90TAFXZA', 'UN55TU8000FXZA')"
   ]
  },
  {
   "cell_type": "code",
   "execution_count": 57,
   "metadata": {},
   "outputs": [
    {
     "name": "stdout",
     "output_type": "stream",
     "text": [
      "1 1 set()\n"
     ]
    },
    {
     "data": {
      "text/plain": [
       "0.0"
      ]
     },
     "execution_count": 57,
     "metadata": {},
     "output_type": "execute_result"
    }
   ],
   "source": [
    "get_jaccard_sim('QN75Q90TAFXZA', 'UN55TU8000FXZA')"
   ]
  },
  {
   "cell_type": "code",
   "execution_count": 58,
   "metadata": {},
   "outputs": [
    {
     "ename": "TypeError",
     "evalue": "get_jaccard_sim() missing 1 required positional argument: 'str2'",
     "output_type": "error",
     "traceback": [
      "\u001b[1;31m---------------------------------------------------------------------------\u001b[0m",
      "\u001b[1;31mTypeError\u001b[0m                                 Traceback (most recent call last)",
      "\u001b[1;32m<ipython-input-58-27c3c312bde1>\u001b[0m in \u001b[0;36m<module>\u001b[1;34m\u001b[0m\n\u001b[1;32m----> 1\u001b[1;33m \u001b[0mget_jaccard_sim\u001b[0m\u001b[1;33m(\u001b[0m\u001b[1;33m[\u001b[0m\u001b[1;34m'QN75Q90TAFXZA'\u001b[0m\u001b[1;33m,\u001b[0m \u001b[1;34m'UN55TU8000FXZA'\u001b[0m\u001b[1;33m]\u001b[0m\u001b[1;33m)\u001b[0m\u001b[1;33m\u001b[0m\u001b[0m\n\u001b[0m",
      "\u001b[1;31mTypeError\u001b[0m: get_jaccard_sim() missing 1 required positional argument: 'str2'"
     ]
    }
   ],
   "source": [
    "get_jaccard_sim(str(' '.join('QN75Q90TAFXZA').split(' ')), 'UN55TU8000FXZA')"
   ]
  },
  {
   "cell_type": "code",
   "execution_count": 65,
   "metadata": {},
   "outputs": [
    {
     "name": "stdout",
     "output_type": "stream",
     "text": [
      "13 11 {\"'A\", \"'F',\", \"'Z',\", \"'X',\", \"'0',\", \"'T',\", \"'5',\", \"'N',\"}\n"
     ]
    },
    {
     "data": {
      "text/plain": [
       "0.5"
      ]
     },
     "execution_count": 65,
     "metadata": {},
     "output_type": "execute_result"
    }
   ],
   "source": [
    "get_jaccard_sim(\n",
    "    str(' '.join('QN75Q90TAFXZA').split(' ')).strip(\"'[],\"),\n",
    "    str(' '.join('UN55TU8000FXZA').split(' ')).strip(\"'[],\"))"
   ]
  },
  {
   "cell_type": "code",
   "execution_count": 66,
   "metadata": {},
   "outputs": [
    {
     "data": {
      "text/plain": [
       "\"'U', 'N', '5', '5', 'T', 'U', '8', '0', '0', '0', 'F', 'X', 'Z', 'A'\""
      ]
     },
     "execution_count": 66,
     "metadata": {},
     "output_type": "execute_result"
    }
   ],
   "source": [
    "str(' '.join('UN55TU8000FXZA').split(' ')).strip('[]')"
   ]
  },
  {
   "cell_type": "code",
   "execution_count": 67,
   "metadata": {},
   "outputs": [
    {
     "name": "stdout",
     "output_type": "stream",
     "text": [
      "6 6 {\"'7',\", \"'0',\", \"'G\", \"H',\", \"'6',\", \"'5',\"}\n"
     ]
    },
    {
     "data": {
      "text/plain": [
       "1.0"
      ]
     },
     "execution_count": 67,
     "metadata": {},
     "output_type": "execute_result"
    }
   ],
   "source": [
    "get_jaccard_sim(\n",
    "    str(' '.join('H6570G').split(' ')).strip(\"'[],\"),\n",
    "    str(' '.join('H6570G').split(' ')).strip(\"'[],\"))"
   ]
  },
  {
   "cell_type": "code",
   "execution_count": 68,
   "metadata": {},
   "outputs": [
    {
     "name": "stdout",
     "output_type": "stream",
     "text": [
      "6 11 {\"'5',\", \"'0',\"}\n"
     ]
    },
    {
     "data": {
      "text/plain": [
       "0.13333333333333333"
      ]
     },
     "execution_count": 68,
     "metadata": {},
     "output_type": "execute_result"
    }
   ],
   "source": [
    "get_jaccard_sim(\n",
    "    str(' '.join('H6570G').split(' ')).strip(\"'[],\"),\n",
    "    str(' '.join('UN55TU8000FXZA').split(' ')).strip(\"'[],\"))"
   ]
  },
  {
   "cell_type": "code",
   "execution_count": 69,
   "metadata": {},
   "outputs": [
    {
     "name": "stdout",
     "output_type": "stream",
     "text": [
      "5 11 {\"'F',\"}\n"
     ]
    },
    {
     "data": {
      "text/plain": [
       "0.06666666666666667"
      ]
     },
     "execution_count": 69,
     "metadata": {},
     "output_type": "execute_result"
    }
   ],
   "source": [
    "get_jaccard_sim(\n",
    "    str(' '.join('EGLF2').split(' ')).strip(\"'[],\"),\n",
    "    str(' '.join('UN55TU8000FXZA').split(' ')).strip(\"'[],\"))"
   ]
  },
  {
   "cell_type": "code",
   "execution_count": 71,
   "metadata": {},
   "outputs": [
    {
     "name": "stdout",
     "output_type": "stream",
     "text": [
      "5 11 {\"'F',\"}\n"
     ]
    },
    {
     "data": {
      "text/plain": [
       "0.06666666666666667"
      ]
     },
     "execution_count": 71,
     "metadata": {},
     "output_type": "execute_result"
    }
   ],
   "source": [
    "get_jaccard_sim(\n",
    "    str(' '.join('EGLF2').split(' ')).strip(\"'[],\"),\n",
    "    str(' '.join('UN55TU8000FXZA').split(' ')).strip(\"'[],\"))"
   ]
  },
  {
   "cell_type": "code",
   "execution_count": null,
   "metadata": {},
   "outputs": [],
   "source": []
  }
 ],
 "metadata": {
  "hide_input": false,
  "kernelspec": {
   "display_name": "Python 3.7.0 64-bit",
   "language": "python",
   "name": "python37064bit60aadc74dafb4fdda7bcaeda74642f94"
  },
  "language_info": {
   "codemirror_mode": {
    "name": "ipython",
    "version": 3
   },
   "file_extension": ".py",
   "mimetype": "text/x-python",
   "name": "python",
   "nbconvert_exporter": "python",
   "pygments_lexer": "ipython3",
   "version": "3.7.0"
  },
  "latex_envs": {
   "LaTeX_envs_menu_present": true,
   "autoclose": false,
   "autocomplete": true,
   "bibliofile": "biblio.bib",
   "cite_by": "apalike",
   "current_citInitial": 1,
   "eqLabelWithNumbers": true,
   "eqNumInitial": 1,
   "hotkeys": {
    "equation": "Ctrl-E",
    "itemize": "Ctrl-I"
   },
   "labels_anchors": false,
   "latex_user_defs": false,
   "report_style_numbering": false,
   "user_envs_cfg": false
  }
 },
 "nbformat": 4,
 "nbformat_minor": 2
}
