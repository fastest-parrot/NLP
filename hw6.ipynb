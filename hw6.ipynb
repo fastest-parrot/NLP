{
 "cells": [
  {
   "cell_type": "markdown",
   "metadata": {},
   "source": [
    "### NLP Homework: 6\n",
    "Sean Kennedy, SMU\n",
    "\n",
    "Searching For Richard Feynman"
   ]
  },
  {
   "cell_type": "markdown",
   "metadata": {},
   "source": [
    "#### 1.\tEvaluate text similarity of Amazon book search results by doing the following:\n",
    "\n",
    "***Do a book search on Amazon. Manually copy the full book title (including subtitle) of each of the top 24 books listed in the first two pages of search results.***\n",
    "\n"
   ]
  },
  {
   "cell_type": "code",
   "execution_count": 104,
   "metadata": {
    "tags": []
   },
   "outputs": [],
   "source": [
    "# import libraries \n",
    "import pandas as pd\n",
    "import numpy as np\n",
    "import seaborn as sns\n",
    "import matplotlib.pyplot as plt\n",
    "import re\n",
    "import nltk\n",
    "import string\n",
    "from nltk.stem import LancasterStemmer\n",
    "from nltk.stem import WordNetLemmatizer\n",
    "from sklearn.feature_extraction.text import CountVectorizer, TfidfVectorizer\n",
    "import requests\n",
    "\n",
    "%matplotlib inline\n",
    "pd.options.display.max_colwidth=500"
   ]
  },
  {
   "cell_type": "markdown",
   "metadata": {},
   "source": [
    "### Code"
   ]
  },
  {
   "cell_type": "code",
   "execution_count": 105,
   "metadata": {
    "hide_input": true
   },
   "outputs": [],
   "source": [
    "def unique_params(parameter_search):\n",
    "    all_keys = sorted(parameter_search)\n",
    "    combinations = it.product(*(parameter_search[key] for key in all_keys))\n",
    "    combinations = [\n",
    "        dict(zip(sorted(parameter_search.keys()), params))\n",
    "        for params in combinations\n",
    "    ]\n",
    "    return list(combinations)\n",
    "\n",
    "def tokenize_text(book_text):\n",
    "    TOKEN_PATTERN = r'\\s+'\n",
    "    regex_wt = nltk.RegexpTokenizer(pattern=TOKEN_PATTERN, gaps=True)\n",
    "    word_tokens = regex_wt.tokenize(book_text)\n",
    "    return word_tokens\n",
    "\n",
    "def remove_characters_after_tokenization(tokens):\n",
    "    pattern = re.compile('[{}]'.format(re.escape(string.punctuation)))\n",
    "    filtered_tokens = filter(None, [pattern.sub('', token) for token in tokens])\n",
    "    return filtered_tokens\n",
    "\n",
    "def convert_to_lowercase(tokens):\n",
    "    return [token.lower() for token in tokens if token.isalpha()]\n",
    "\n",
    "def remove_stopwords(tokens):\n",
    "    stopword_list = nltk.corpus.stopwords.words('english')\n",
    "    filtered_tokens = [token for token in tokens if token not in stopword_list]\n",
    "    return filtered_tokens\n",
    "\n",
    "def apply_lemmatization(tokens, wnl=WordNetLemmatizer()):\n",
    "    return [wnl.lemmatize(token) for token in tokens]\n",
    "\n",
    "def clean_texts(book_texts):\n",
    "    clean_books = []\n",
    "    for book in book_texts:\n",
    "        book_i = tokenize_text(book)\n",
    "        book_i = remove_characters_after_tokenization(book_i)\n",
    "        book_i = convert_to_lowercase(book_i)\n",
    "        book_i = remove_stopwords(book_i)\n",
    "        book_i = apply_lemmatization(book_i)\n",
    "        clean_books.append(book_i)\n",
    "    return clean_books\n",
    "\n",
    "def plot_heatmap(df_hm, xlabels, ylabels):\n",
    "    sns.set(style=\"white\")\n",
    "\n",
    "    f, ax = plt.subplots(figsize=(18, 18))\n",
    "\n",
    "    cmap = sns.diverging_palette(220, 20, as_cmap=True)\n",
    "\n",
    "    mask = np.zeros_like(df_hm, dtype=np.bool)\n",
    "    mask[np.triu_indices_from(mask)] = True\n",
    "\n",
    "    sns.heatmap(df_hm, mask=mask, cmap=cmap, center=0.5,\n",
    "            xticklabels=xlabels, yticklabels=ylabels,\n",
    "            square=True, linewidths=.5, fmt='.2f',\n",
    "            annot=True, cbar_kws={\"shrink\": .5}, vmax=1)\n",
    "\n",
    "    ax.set_title(\"cosine similarity scores\").set_fontsize(15)\n",
    "    ax.set_xlabel(\"\")\n",
    "    ax.set_ylabel(\"\")\n",
    "\n",
    "    return ax\n",
    "\n",
    "def compute_cosine_similarity(pair):\n",
    "\n",
    "    book1, book2 = pair\n",
    "\n",
    "    book1_index = int(book1.split(\"_\")[1])\n",
    "    book2_index = int(book2.split(\"_\")[1])\n",
    "\n",
    "    book1_fm = feature_matrix.toarray()[book1_index]\n",
    "    book2_fm = feature_matrix.toarray()[book2_index]\n",
    "\n",
    "    manual_cosine_similarity = np.dot(book1_fm, book2_fm)\n",
    "\n",
    "    return manual_cosine_similarity\n",
    "\n"
   ]
  },
  {
   "cell_type": "code",
   "execution_count": 106,
   "metadata": {},
   "outputs": [
    {
     "name": "stderr",
     "output_type": "stream",
     "text": [
      "c:\\users\\skennedy\\appdata\\local\\programs\\python\\python37\\lib\\site-packages\\urllib3\\connectionpool.py:1004: InsecureRequestWarning: Unverified HTTPS request is being made to host 'www.amazon.com'. Adding certificate verification is strongly advised. See: https://urllib3.readthedocs.io/en/latest/advanced-usage.html#ssl-warnings\n",
      "  InsecureRequestWarning,\n"
     ]
    }
   ],
   "source": [
    "books = requests.get('https://www.amazon.com/s?k=Richard+Feynman&i=stripbooks&ref=nb_sb_noss_2', verify=False)"
   ]
  },
  {
   "cell_type": "markdown",
   "metadata": {},
   "source": [
    "***a) Do a book search on Amazon. Manually copy the full book title (including subtitle) of each of the top 24 books listed in the first two pages of search results***"
   ]
  },
  {
   "cell_type": "code",
   "execution_count": 107,
   "metadata": {},
   "outputs": [],
   "source": [
    "from bs4 import BeautifulSoup"
   ]
  },
  {
   "cell_type": "code",
   "execution_count": 108,
   "metadata": {},
   "outputs": [],
   "source": [
    "soup = BeautifulSoup(books.text)"
   ]
  },
  {
   "cell_type": "code",
   "execution_count": 109,
   "metadata": {
    "scrolled": true
   },
   "outputs": [
    {
     "data": {
      "text/plain": [
       "<!--\n",
       "        To discuss automated access to Amazon data please contact api-services-support@amazon.com.\n",
       "        For information about migrating to our APIs refer to our Marketplace APIs at https://developer.amazonservices.com/ref=rm_5_sv, or our Product Advertising API at https://affiliate-program.amazon.com/gp/advertising/api/detail/main.html/ref=rm_5_ac for advertising use cases.\n",
       "--><!DOCTYPE html>\n",
       "<html>\n",
       "<head>\n",
       "<meta charset=\"utf-8\"/>\n",
       "<meta content=\"ie=edge\" http-equiv=\"x-ua-compatible\"/>\n",
       "<meta content=\"width=device-width, initial-scale=1, shrink-to-fit=no\" name=\"viewport\"/>\n",
       "<title>Sorry! Something went wrong!</title>\n",
       "<style>\n",
       "  html, body {\n",
       "    padding: 0;\n",
       "    margin: 0\n",
       "  }\n",
       "\n",
       "  img {\n",
       "    border: 0\n",
       "  }\n",
       "\n",
       "  #a {\n",
       "    background: #232f3e;\n",
       "    padding: 11px 11px 11px 192px\n",
       "  }\n",
       "\n",
       "  #b {\n",
       "    position: absolute;\n",
       "    left: 22px;\n",
       "    top: 12px\n",
       "  }\n",
       "\n",
       "  #c {\n",
       "    position: relative;\n",
       "    max-width: 800px;\n",
       "    padding: 0 40px 0 0\n",
       "  }\n",
       "\n",
       "  #e, #f {\n",
       "    height: 35px;\n",
       "    border: 0;\n",
       "    font-size: 1em\n",
       "  }\n",
       "\n",
       "  #e {\n",
       "    width: 100%;\n",
       "    margin: 0;\n",
       "    padding: 0 10px;\n",
       "    border-radius: 4px 0 0 4px\n",
       "  }\n",
       "\n",
       "  #f {\n",
       "    cursor: pointer;\n",
       "    background: #febd69;\n",
       "    font-weight: bold;\n",
       "    border-radius: 0 4px 4px 0;\n",
       "    -webkit-appearance: none;\n",
       "    position: absolute;\n",
       "    top: 0;\n",
       "    right: 0;\n",
       "    padding: 0 12px\n",
       "  }\n",
       "\n",
       "  @media (max-width: 500px) {\n",
       "    #a {\n",
       "      padding: 55px 10px 10px\n",
       "    }\n",
       "\n",
       "    #b {\n",
       "      left: 6px\n",
       "    }\n",
       "  }\n",
       "\n",
       "  #g {\n",
       "    text-align: center;\n",
       "    margin: 30px 0\n",
       "  }\n",
       "\n",
       "  #g img {\n",
       "    max-width: 90%\n",
       "  }\n",
       "\n",
       "  #d {\n",
       "    display: none\n",
       "  }\n",
       "\n",
       "  #d[src] {\n",
       "    display: inline\n",
       "  }\n",
       "  </style>\n",
       "</head>\n",
       "<body>\n",
       "<a href=\"/ref=cs_503_logo\"><img alt=\"Amazon.com\" id=\"b\" src=\"https://images-na.ssl-images-amazon.com/images/G/01/error/logo._TTD_.png\"/></a>\n",
       "<form accept-charset=\"utf-8\" action=\"/s\" id=\"a\" method=\"GET\" role=\"search\">\n",
       "<div id=\"c\">\n",
       "<input id=\"e\" name=\"field-keywords\" placeholder=\"Search\"/>\n",
       "<input name=\"ref\" type=\"hidden\" value=\"cs_503_search\"/>\n",
       "<input id=\"f\" type=\"submit\" value=\"Go\"/>\n",
       "</div>\n",
       "</form>\n",
       "<div id=\"g\">\n",
       "<div><a href=\"/ref=cs_503_link\"><img alt=\"Sorry! Something went wrong on our end. Please go back and try again or go to Amazon's home page.\" src=\"https://images-na.ssl-images-amazon.com/images/G/01/error/500_503.png\"/></a>\n",
       "</div>\n",
       "<a href=\"/dogsofamazon/ref=cs_503_d\" rel=\"noopener noreferrer\" target=\"_blank\"><img alt=\"Dogs of Amazon\" id=\"d\"/></a>\n",
       "<script>document.getElementById(\"d\").src = \"https://images-na.ssl-images-amazon.com/images/G/01/error/\" + (Math.floor(Math.random() * 43) + 1) + \"._TTD_.jpg\";</script>\n",
       "</div>\n",
       "</body>\n",
       "</html>"
      ]
     },
     "execution_count": 109,
     "metadata": {},
     "output_type": "execute_result"
    }
   ],
   "source": [
    "soup"
   ]
  },
  {
   "cell_type": "markdown",
   "metadata": {},
   "source": [
    "***Unfortunately, ammazon doesn't allow programmatic access to their data for free :(***\n",
    "\n"
   ]
  },
  {
   "cell_type": "code",
   "execution_count": 110,
   "metadata": {
    "tags": []
   },
   "outputs": [],
   "source": [
    "#search string = Richard Feynman\n",
    "book_titles = [\n",
    "    'The Grand Biocentric Design: How Life Creates Reality',\n",
    "    \"Surely You're Joking, Mr. Feynman!: Adventures of a Curious Character\",\n",
    "    'Six Easy Pieces: Essentials of Physics Explained by Its Most Brilliant Teacher',\n",
    "    'The Feynman Lectures on Physics, boxed set: The New Millennium Edition',\n",
    "    'The Pleasure of Finding Things Out: The Best Short Works of Richard P. Feynman (Helix Books)',\n",
    "    '\"What Do You Care What Other People Think?\": Further Adventures of a Curious Character',\n",
    "    'The Meaning of It All: Thoughts of a Citizen-Scientist',\n",
    "    'Genius: The Life and Science of Richard Feynman',\n",
    "    'Six Not-So-Easy Pieces: Einstein s Relativity, Symmetry, and Space-Time',\n",
    "    'Darwin in a New Key: Evolution and the Question of Value',\n",
    "    'Quantum Mechanics: A Modern Development (2Nd Edition)',\n",
    "    'QED: The Strange Theory of Light and Matter (Princeton Science Library)',\n",
    "    'Perfectly Reasonable Deviations from the Beaten Track',\n",
    "    'The Feynman Lectures on Physics, Vol. I: The New Millennium Edition: Mainly Mechanics, Radiation, and Heat (Volume 1)',\n",
    "    'The Feynman Lectures on Physics - Vol. I, II & III Bundle',\n",
    "    'The Character of Physical Law, with new foreword (The MIT Press)',\n",
    "    \"Feynman's Tips on Physics: Reflections, Advice, Insights, Practice - A Problem-Solving Supplement to the Feynman Lectures on Physics\",\n",
    "    'Exercises for the Feynman Lectures on Physics',\n",
    "    'Quantum Mechanics and Path Integrals: Emended Edition (Dover Books on Physics)',\n",
    "    'Relativity: The Special and General Theory (Dover Books on Physics)',\n",
    "    'Quantum Mechanics: Basic & Advanced Concepts for Beginners',\n",
    "    'The Code Breaker: Jennifer Doudna, Gene Editing, and the Future of the Human Race',\n",
    "    'No-Nonsense Electrodynamics: A Student Friendly Introduction',\n",
    "    \"Quantum Man: Richard Feynman's Life in Science (Great Discoveries)\",\n",
    "    \"Don't You Have Time to Think?\"\n",
    "]"
   ]
  },
  {
   "cell_type": "code",
   "execution_count": 111,
   "metadata": {},
   "outputs": [
    {
     "data": {
      "text/plain": [
       "25"
      ]
     },
     "execution_count": 111,
     "metadata": {},
     "output_type": "execute_result"
    }
   ],
   "source": [
    "len(book_titles)"
   ]
  },
  {
   "cell_type": "markdown",
   "metadata": {},
   "source": [
    "***b) In Python, run one of the text-similarity measures covered in this course, e.g., cosine similarity. Compare each of the book titles, pairwise, to every other one.***\n",
    "\n",
    "\n"
   ]
  },
  {
   "cell_type": "code",
   "execution_count": 112,
   "metadata": {
    "tags": []
   },
   "outputs": [],
   "source": [
    "bookids_vals = [\"book_\" + str(i) for i in range(len(book_titles))]\n",
    "book_dict = dict(zip(bookids_vals, book_titles))\n",
    "book_ids = list(book_dict.keys())\n",
    "book_pairs = []\n",
    "for i, v in enumerate(book_ids):\n",
    "    for j in book_ids[i+1:]:\n",
    "        book_pairs.append((book_ids[i],j))"
   ]
  },
  {
   "cell_type": "code",
   "execution_count": 113,
   "metadata": {
    "tags": []
   },
   "outputs": [
    {
     "data": {
      "text/plain": [
       "['grand biocentric design life creates reality',\n",
       " 'surely youre joking mr feynman adventure curious character',\n",
       " 'six easy piece essential physic explained brilliant teacher',\n",
       " 'feynman lecture physic boxed set new millennium edition',\n",
       " 'pleasure finding thing best short work richard p feynman helix book',\n",
       " 'care people think adventure curious character',\n",
       " 'meaning thought citizenscientist',\n",
       " 'genius life science richard feynman',\n",
       " 'six notsoeasy piece einstein relativity symmetry spacetime',\n",
       " 'darwin new key evolution question value',\n",
       " 'quantum mechanic modern development edition',\n",
       " 'qed strange theory light matter princeton science library',\n",
       " 'perfectly reasonable deviation beaten track',\n",
       " 'feynman lecture physic vol new millennium edition mainly mechanic radiation heat volume',\n",
       " 'feynman lecture physic vol ii iii bundle',\n",
       " 'character physical law new foreword mit press',\n",
       " 'feynman tip physic reflection advice insight practice problemsolving supplement feynman lecture physic',\n",
       " 'exercise feynman lecture physic',\n",
       " 'quantum mechanic path integral emended edition dover book physic',\n",
       " 'relativity special general theory dover book physic',\n",
       " 'quantum mechanic basic advanced concept beginner',\n",
       " 'code breaker jennifer doudna gene editing future human race',\n",
       " 'nononsense electrodynamics student friendly introduction',\n",
       " 'quantum man richard feynman life science great discovery',\n",
       " 'dont time think']"
      ]
     },
     "metadata": {},
     "output_type": "display_data"
    }
   ],
   "source": [
    "clean_books = cleanTextBooks(book_titles)\n",
    "norm_clean_books = [' '.join(text) for text in clean_books]\n",
    "display(norm_clean_books)"
   ]
  },
  {
   "cell_type": "code",
   "execution_count": 114,
   "metadata": {},
   "outputs": [],
   "source": [
    "vectorizer = TfidfVectorizer(min_df=0.0, max_df=1.0, ngram_range=(1,1))\n",
    "feature_matrix = vectorizer.fit_transform(norm_clean_books).astype(float)"
   ]
  },
  {
   "cell_type": "code",
   "execution_count": 115,
   "metadata": {},
   "outputs": [
    {
     "data": {
      "text/html": [
       "<div>\n",
       "<style scoped>\n",
       "    .dataframe tbody tr th:only-of-type {\n",
       "        vertical-align: middle;\n",
       "    }\n",
       "\n",
       "    .dataframe tbody tr th {\n",
       "        vertical-align: top;\n",
       "    }\n",
       "\n",
       "    .dataframe thead th {\n",
       "        text-align: right;\n",
       "    }\n",
       "</style>\n",
       "<table border=\"1\" class=\"dataframe\">\n",
       "  <thead>\n",
       "    <tr style=\"text-align: right;\">\n",
       "      <th></th>\n",
       "      <th>pair</th>\n",
       "      <th>similarity</th>\n",
       "    </tr>\n",
       "  </thead>\n",
       "  <tbody>\n",
       "    <tr>\n",
       "      <th>0</th>\n",
       "      <td>(book_0, book_1)</td>\n",
       "      <td>0.0</td>\n",
       "    </tr>\n",
       "    <tr>\n",
       "      <th>171</th>\n",
       "      <td>(book_8, book_16)</td>\n",
       "      <td>0.0</td>\n",
       "    </tr>\n",
       "    <tr>\n",
       "      <th>172</th>\n",
       "      <td>(book_8, book_17)</td>\n",
       "      <td>0.0</td>\n",
       "    </tr>\n",
       "    <tr>\n",
       "      <th>173</th>\n",
       "      <td>(book_8, book_18)</td>\n",
       "      <td>0.0</td>\n",
       "    </tr>\n",
       "    <tr>\n",
       "      <th>175</th>\n",
       "      <td>(book_8, book_20)</td>\n",
       "      <td>0.0</td>\n",
       "    </tr>\n",
       "    <tr>\n",
       "      <th>176</th>\n",
       "      <td>(book_8, book_21)</td>\n",
       "      <td>0.0</td>\n",
       "    </tr>\n",
       "    <tr>\n",
       "      <th>177</th>\n",
       "      <td>(book_8, book_22)</td>\n",
       "      <td>0.0</td>\n",
       "    </tr>\n",
       "    <tr>\n",
       "      <th>178</th>\n",
       "      <td>(book_8, book_23)</td>\n",
       "      <td>0.0</td>\n",
       "    </tr>\n",
       "    <tr>\n",
       "      <th>179</th>\n",
       "      <td>(book_8, book_24)</td>\n",
       "      <td>0.0</td>\n",
       "    </tr>\n",
       "    <tr>\n",
       "      <th>180</th>\n",
       "      <td>(book_9, book_10)</td>\n",
       "      <td>0.0</td>\n",
       "    </tr>\n",
       "  </tbody>\n",
       "</table>\n",
       "</div>"
      ],
      "text/plain": [
       "                  pair  similarity\n",
       "0     (book_0, book_1)         0.0\n",
       "171  (book_8, book_16)         0.0\n",
       "172  (book_8, book_17)         0.0\n",
       "173  (book_8, book_18)         0.0\n",
       "175  (book_8, book_20)         0.0\n",
       "176  (book_8, book_21)         0.0\n",
       "177  (book_8, book_22)         0.0\n",
       "178  (book_8, book_23)         0.0\n",
       "179  (book_8, book_24)         0.0\n",
       "180  (book_9, book_10)         0.0"
      ]
     },
     "metadata": {},
     "output_type": "display_data"
    },
    {
     "data": {
      "text/html": [
       "<div>\n",
       "<style scoped>\n",
       "    .dataframe tbody tr th:only-of-type {\n",
       "        vertical-align: middle;\n",
       "    }\n",
       "\n",
       "    .dataframe tbody tr th {\n",
       "        vertical-align: top;\n",
       "    }\n",
       "\n",
       "    .dataframe thead th {\n",
       "        text-align: right;\n",
       "    }\n",
       "</style>\n",
       "<table border=\"1\" class=\"dataframe\">\n",
       "  <thead>\n",
       "    <tr style=\"text-align: right;\">\n",
       "      <th></th>\n",
       "      <th>pair</th>\n",
       "      <th>similarity</th>\n",
       "    </tr>\n",
       "  </thead>\n",
       "  <tbody>\n",
       "    <tr>\n",
       "      <th>237</th>\n",
       "      <td>(book_13, book_17)</td>\n",
       "      <td>0.265247</td>\n",
       "    </tr>\n",
       "    <tr>\n",
       "      <th>234</th>\n",
       "      <td>(book_13, book_14)</td>\n",
       "      <td>0.297101</td>\n",
       "    </tr>\n",
       "    <tr>\n",
       "      <th>279</th>\n",
       "      <td>(book_18, book_19)</td>\n",
       "      <td>0.301962</td>\n",
       "    </tr>\n",
       "    <tr>\n",
       "      <th>202</th>\n",
       "      <td>(book_10, book_18)</td>\n",
       "      <td>0.341695</td>\n",
       "    </tr>\n",
       "    <tr>\n",
       "      <th>82</th>\n",
       "      <td>(book_3, book_17)</td>\n",
       "      <td>0.342473</td>\n",
       "    </tr>\n",
       "    <tr>\n",
       "      <th>247</th>\n",
       "      <td>(book_14, book_17)</td>\n",
       "      <td>0.346090</td>\n",
       "    </tr>\n",
       "    <tr>\n",
       "      <th>264</th>\n",
       "      <td>(book_16, book_17)</td>\n",
       "      <td>0.380019</td>\n",
       "    </tr>\n",
       "    <tr>\n",
       "      <th>27</th>\n",
       "      <td>(book_1, book_5)</td>\n",
       "      <td>0.388563</td>\n",
       "    </tr>\n",
       "    <tr>\n",
       "      <th>78</th>\n",
       "      <td>(book_3, book_13)</td>\n",
       "      <td>0.464900</td>\n",
       "    </tr>\n",
       "    <tr>\n",
       "      <th>162</th>\n",
       "      <td>(book_7, book_23)</td>\n",
       "      <td>0.517902</td>\n",
       "    </tr>\n",
       "  </tbody>\n",
       "</table>\n",
       "</div>"
      ],
      "text/plain": [
       "                   pair  similarity\n",
       "237  (book_13, book_17)    0.265247\n",
       "234  (book_13, book_14)    0.297101\n",
       "279  (book_18, book_19)    0.301962\n",
       "202  (book_10, book_18)    0.341695\n",
       "82    (book_3, book_17)    0.342473\n",
       "247  (book_14, book_17)    0.346090\n",
       "264  (book_16, book_17)    0.380019\n",
       "27     (book_1, book_5)    0.388563\n",
       "78    (book_3, book_13)    0.464900\n",
       "162   (book_7, book_23)    0.517902"
      ]
     },
     "metadata": {},
     "output_type": "display_data"
    }
   ],
   "source": [
    "similarity = [compute_cosine_similarity(pair) for pair in book_pairs]\n",
    "df = pd.DataFrame({'pair': book_pairs, 'similarity': similarity})\n",
    "display(df.sort_values(['similarity']).head(10))\n",
    "display(df.sort_values(['similarity']).tail(10))"
   ]
  },
  {
   "cell_type": "code",
   "execution_count": 116,
   "metadata": {
    "hide_input": true
   },
   "outputs": [
    {
     "data": {
      "image/png": "[encoded data removed]",
      "text/plain": [
       "<Figure size 1296x1296 with 2 Axes>"
      ]
     },
     "metadata": {},
     "output_type": "display_data"
    }
   ],
   "source": [
    "# initialize an empty dataframe grid based on the length of book titles\n",
    "df_hm = pd.DataFrame({'ind': range(len(book_titles)), 'cols': range(len(book_titles)), 'vals': pd.Series(np.zeros(len(book_titles)))})\n",
    "\n",
    "# convert to a matrix for the heatmap\n",
    "df_hm = df_hm.pivot(index='ind', columns='cols').fillna(0)\n",
    "\n",
    "# make a copy\n",
    "df_temp = df.copy()\n",
    "\n",
    "# convert list of tuples into 2 lists\n",
    "list1 = []\n",
    "list2 = []\n",
    "for item1, item2 in df_temp.pair:\n",
    "    list1.append(item1)\n",
    "    list2.append(item2)\n",
    "\n",
    "# add two columns to df_temp\n",
    "df_temp['book1'] = list1\n",
    "df_temp['book2'] = list2\n",
    "\n",
    "# drop the pair as it not needed\n",
    "df_temp.drop('pair', axis=1, inplace=True)\n",
    "\n",
    "# extract index so that you can construct pairs\n",
    "df_temp['book1'] = df_temp['book1'].apply(lambda x: int(x.split('_')[-1]))\n",
    "df_temp['book2'] = df_temp['book2'].apply(lambda x: int(x.split('_')[-1]))\n",
    "\n",
    "# create tuples (0, 1, similarity)\n",
    "df_temp['pairs'] = list(zip(df_temp.book1, df_temp.book2, round(df_temp.similarity, 2)))\n",
    "\n",
    "# to get lower diagonal, swap the rows and cols.\n",
    "for row, col, similarity in df_temp.pairs:\n",
    "    df_hm.iloc[col, row] = similarity\n",
    "\n",
    "ax = plot_heatmap(df_hm, book_ids, book_ids)"
   ]
  },
  {
   "cell_type": "markdown",
   "metadata": {},
   "source": [
    "***c) Which two titles are the most similar to each other? Which are the most dissimilar? Where do they rank, among the first 24 results?***\n",
    "\n",
    "Book 7 and book 23 had the highest cosine similarity score  (0.52) which is not surprising given that that they are:\n",
    "\n",
    "- 'Genius: The Life and Science of Richard Feynman'\n",
    "\n",
    "- Quantum Man: Richard Feynman's Life in Science (Great Discoveries)\n",
    "\n",
    "Many of our entries tied with similarity scores of 0 (219 pairs). Of all of the book titles, book title 3 ('The Feynman Lectures on Physics, boxed set: The New Millennium Edition') was the most similar to the other elements - in particular books 13/14 and 17/18 which are accompaniments to the legendary publication \"The Feynman Lectures on Physics\". The fact that this book ranks 3rd in the Amazon search is not surprising - it's one of the most popular texts of its type to ever be printed. The texts which appeared lower in the search were still all very relevant to the search topic, since the search topic is both the subject of much writing and the author of a myriad of texts."
   ]
  },
  {
   "cell_type": "code",
   "execution_count": 117,
   "metadata": {},
   "outputs": [
    {
     "data": {
      "text/plain": [
       "('Genius: The Life and Science of Richard Feynman',\n",
       " \"Quantum Man: Richard Feynman's Life in Science (Great Discoveries)\",\n",
       " 'The Feynman Lectures on Physics, boxed set: The New Millennium Edition',\n",
       " 219,\n",
       " ['The Feynman Lectures on Physics, Vol. I: The New Millennium Edition: Mainly Mechanics, Radiation, and Heat (Volume 1)',\n",
       "  'The Feynman Lectures on Physics - Vol. I, II & III Bundle'],\n",
       " [\"Feynman's Tips on Physics: Reflections, Advice, Insights, Practice - A Problem-Solving Supplement to the Feynman Lectures on Physics\",\n",
       "  'Exercises for the Feynman Lectures on Physics'])"
      ]
     },
     "execution_count": 117,
     "metadata": {},
     "output_type": "execute_result"
    }
   ],
   "source": [
    "book_titles[7], book_titles[23], book_titles[3], df.query('similarity == 0').shape[0], book_titles[13:15], book_titles[16:18] "
   ]
  },
  {
   "cell_type": "markdown",
   "metadata": {},
   "source": [
    "***2.\tNow evaluate using a major search engine.***\n",
    "\n",
    "***a) Enter one of the book titles from question 1a into Google, Bing, or Yahoo!. Copy the capsule of the first organic result and the 20th organic result. Take web results only (i.e., not video results), and skip sponsored results.***\n",
    "\n",
    "'The Feynman Lectures on Physics, boxed set: The New Millennium Edition'\n",
    "\n",
    "and\n",
    "\n",
    "'Six Easy Pieces: Essentials of Physics Explained by Its Most Brilliant Teacher'"
   ]
  },
  {
   "cell_type": "markdown",
   "metadata": {},
   "source": [
    "The Feynman Lectures on Physics, boxed set: The New ...www.abebooks.com › plp\n",
    "Jan 27, 2011 — AbeBooks.com: The Feynman Lectures on Physics, boxed set: The New Millennium Edition (9780465023820) by Feynman, Richard P.; ...\n",
    "\n",
    "The Feynman Lectures on Physics – Daniel Schmachtenbergercivilizationemerging.com › resources › the-feynman-le...\n",
    "The Feynman Lectures on Physics, boxed set: The New Millennium Edition - Richard P. Feynman, Robert B. Leighton, Matthew Sands. The legendary ...\n",
    "\n",
    "\n",
    "\n",
    "Six Easy Pieces: Essentials of Physics Explained by Its Most ...blas.com › six-easy-pieces\n",
    "Nov 30, 2019 — Six Easy Pieces: Essentials of Physics Explained by Its Most Brilliant Teacher by Richard Feynman. Summary. A distillation of some of the key ...\n",
    "\n",
    "\n",
    "Formats and Editions of Six easy pieces : [essentials of ...www.worldcat.org › title › oclc › editions\n",
    "Title / Author, Type, Language, Date / Edition, Publication. 1. Six easy pieces : [essentials of physics, explained by its most brilliant teacher], 1. Six easy pieces ...\n"
   ]
  },
  {
   "cell_type": "markdown",
   "metadata": {},
   "source": [
    "***b) Run the same text similarity calculation that you used for question 1b on each of these capsules in comparison to the original query (book title).***"
   ]
  },
  {
   "cell_type": "code",
   "execution_count": 118,
   "metadata": {
    "tags": []
   },
   "outputs": [],
   "source": [
    "search_1 = \"The Feynman Lectures on Physics, boxed set: The New ...www.abebooks.com › plp Jan 27, 2011 — AbeBooks.com: The Feynman Lectures on Physics, boxed set: The New Millennium Edition (9780465023820) by Feynman, Richard P.; ...\"\n",
    "book = \"The Feynman Lectures on Physics, boxed set: The New Millennium Edition\"\n",
    "\n",
    "search_list = [search_1, book]\n",
    "\n",
    "searchID_vals = [\"item_\" + str(i) for i in range(len(search_list))]\n",
    "\n",
    "search_dict = dict(zip(searchID_vals, search_list))\n",
    "\n",
    "search_ids = list(search_dict.keys())\n",
    "\n",
    "search_pairs = []\n",
    "\n",
    "for i, v in enumerate(search_ids):\n",
    "    for j in search_ids[i+1:]:\n",
    "        search_pairs.append((search_ids[i],j))\n",
    "\n"
   ]
  },
  {
   "cell_type": "code",
   "execution_count": 119,
   "metadata": {
    "tags": []
   },
   "outputs": [
    {
     "name": "stdout",
     "output_type": "stream",
     "text": [
      "['feynman lecture physic boxed set new wwwabebookscom plp jan abebookscom feynman lecture physic boxed set new millennium edition feynman richard p', 'feynman lecture physic boxed set new millennium edition']\n"
     ]
    },
    {
     "data": {
      "text/html": [
       "<div>\n",
       "<style scoped>\n",
       "    .dataframe tbody tr th:only-of-type {\n",
       "        vertical-align: middle;\n",
       "    }\n",
       "\n",
       "    .dataframe tbody tr th {\n",
       "        vertical-align: top;\n",
       "    }\n",
       "\n",
       "    .dataframe thead th {\n",
       "        text-align: right;\n",
       "    }\n",
       "</style>\n",
       "<table border=\"1\" class=\"dataframe\">\n",
       "  <thead>\n",
       "    <tr style=\"text-align: right;\">\n",
       "      <th></th>\n",
       "      <th>pair</th>\n",
       "      <th>similarity</th>\n",
       "    </tr>\n",
       "  </thead>\n",
       "  <tbody>\n",
       "    <tr>\n",
       "      <th>0</th>\n",
       "      <td>(item_0, item_1)</td>\n",
       "      <td>0.829485</td>\n",
       "    </tr>\n",
       "  </tbody>\n",
       "</table>\n",
       "</div>"
      ],
      "text/plain": [
       "               pair  similarity\n",
       "0  (item_0, item_1)    0.829485"
      ]
     },
     "metadata": {},
     "output_type": "display_data"
    }
   ],
   "source": [
    "clean_search = cleanTextBooks(search_list)\n",
    "norm_clean_search = [' '.join(text) for text in clean_search]\n",
    "print(norm_clean_search)\n",
    "\n",
    "vectorizer = TfidfVectorizer(min_df=0.0, max_df=1.0, ngram_range=(1,1))\n",
    "feature_matrix = vectorizer.fit_transform(norm_clean_search).astype(float)\n",
    "\n",
    "pairwise_cosine_similarity = [compute_cosine_similarity(pair) for pair in search_pairs]\n",
    "df = pd.DataFrame({'pair': search_pairs, 'similarity': pairwise_cosine_similarity})\n",
    "display(df.head())\n",
    "\n"
   ]
  },
  {
   "cell_type": "code",
   "execution_count": 120,
   "metadata": {
    "tags": []
   },
   "outputs": [],
   "source": [
    "# Compare the 20th search entry to the book\n",
    "search20 = \"The Feynman Lectures on Physics – Daniel Schmachtenbergercivilizationemerging.com › resources › the-feynman-le... The Feynman Lectures on Physics, boxed set: The New Millennium Edition - Richard P. Feynman, Robert B. Leighton, Matthew Sands. The legendary ...\"\n",
    "search_list = [search20, book]\n",
    "\n",
    "searchID_vals = [\"search_\" + str(i) for i in range(len(search_list))]\n",
    "\n",
    "search_dict = dict(zip(searchID_vals, search_list))\n",
    "\n",
    "search_ids = list(search_dict.keys())\n",
    "\n",
    "search_pairs = []\n",
    "for i, v in enumerate(search_ids):\n",
    "    for j in search_ids[i+1:]:\n",
    "        search_pairs.append((search_ids[i],j))\n"
   ]
  },
  {
   "cell_type": "code",
   "execution_count": 121,
   "metadata": {
    "tags": []
   },
   "outputs": [
    {
     "name": "stdout",
     "output_type": "stream",
     "text": [
      "['feynman lecture physic daniel schmachtenbergercivilizationemergingcom resource thefeynmanle feynman lecture physic boxed set new millennium edition richard p feynman robert b leighton matthew sand legendary', 'feynman lecture physic boxed set new millennium edition']\n"
     ]
    }
   ],
   "source": [
    "clean_search = cleanTextBooks(search_list)\n",
    "norm_clean_search = [' '.join(text) for text in clean_search]\n",
    "print(norm_clean_search)"
   ]
  },
  {
   "cell_type": "code",
   "execution_count": 122,
   "metadata": {},
   "outputs": [],
   "source": [
    "vectorizer = TfidfVectorizer(min_df=0.0, max_df=1.0, ngram_range=(1,1))\n",
    "feature_matrix = vectorizer.fit_transform(norm_clean_search).astype(float)"
   ]
  },
  {
   "cell_type": "code",
   "execution_count": 123,
   "metadata": {},
   "outputs": [
    {
     "data": {
      "text/html": [
       "<div>\n",
       "<style scoped>\n",
       "    .dataframe tbody tr th:only-of-type {\n",
       "        vertical-align: middle;\n",
       "    }\n",
       "\n",
       "    .dataframe tbody tr th {\n",
       "        vertical-align: top;\n",
       "    }\n",
       "\n",
       "    .dataframe thead th {\n",
       "        text-align: right;\n",
       "    }\n",
       "</style>\n",
       "<table border=\"1\" class=\"dataframe\">\n",
       "  <thead>\n",
       "    <tr style=\"text-align: right;\">\n",
       "      <th></th>\n",
       "      <th>pair</th>\n",
       "      <th>similarity</th>\n",
       "    </tr>\n",
       "  </thead>\n",
       "  <tbody>\n",
       "    <tr>\n",
       "      <th>0</th>\n",
       "      <td>(search_0, search_1)</td>\n",
       "      <td>0.656585</td>\n",
       "    </tr>\n",
       "  </tbody>\n",
       "</table>\n",
       "</div>"
      ],
      "text/plain": [
       "                   pair  similarity\n",
       "0  (search_0, search_1)    0.656585"
      ]
     },
     "metadata": {},
     "output_type": "display_data"
    }
   ],
   "source": [
    "pairwise_cosine_similarity = [compute_cosine_similarity(pair) for pair in search_pairs]\n",
    "df = pd.DataFrame({'pair': search_pairs, 'similarity': pairwise_cosine_similarity})\n",
    "display(df.head())"
   ]
  },
  {
   "cell_type": "code",
   "execution_count": 124,
   "metadata": {},
   "outputs": [],
   "source": [
    "search_1 = \"Six Easy Pieces: Essentials of Physics Explained by Its Most ...blas.com › six-easy-pieces Nov 30, 2019 — Six Easy Pieces: Essentials of Physics Explained by Its Most Brilliant Teacher by Richard Feynman. Summary. A distillation of some of the key ...\"\n",
    "book = 'Six Easy Pieces: Essentials of Physics Explained by Its Most Brilliant Teacher'\n",
    "\n",
    "search_list = [search_1, book]\n",
    "\n",
    "searchID_vals = [\"item_\" + str(i) for i in range(len(search_list))]\n",
    "\n",
    "search_dict = dict(zip(searchID_vals, search_list))\n",
    "\n",
    "search_ids = list(search_dict.keys())\n",
    "\n",
    "search_pairs = []\n",
    "\n",
    "for i, v in enumerate(search_ids):\n",
    "    for j in search_ids[i+1:]:\n",
    "        search_pairs.append((search_ids[i],j))"
   ]
  },
  {
   "cell_type": "code",
   "execution_count": 125,
   "metadata": {},
   "outputs": [
    {
     "name": "stdout",
     "output_type": "stream",
     "text": [
      "['six easy piece essential physic explained blascom sixeasypieces nov six easy piece essential physic explained brilliant teacher richard feynman summary distillation key', 'six easy piece essential physic explained brilliant teacher']\n"
     ]
    },
    {
     "data": {
      "text/html": [
       "<div>\n",
       "<style scoped>\n",
       "    .dataframe tbody tr th:only-of-type {\n",
       "        vertical-align: middle;\n",
       "    }\n",
       "\n",
       "    .dataframe tbody tr th {\n",
       "        vertical-align: top;\n",
       "    }\n",
       "\n",
       "    .dataframe thead th {\n",
       "        text-align: right;\n",
       "    }\n",
       "</style>\n",
       "<table border=\"1\" class=\"dataframe\">\n",
       "  <thead>\n",
       "    <tr style=\"text-align: right;\">\n",
       "      <th></th>\n",
       "      <th>pair</th>\n",
       "      <th>similarity</th>\n",
       "    </tr>\n",
       "  </thead>\n",
       "  <tbody>\n",
       "    <tr>\n",
       "      <th>0</th>\n",
       "      <td>(item_0, item_1)</td>\n",
       "      <td>0.765563</td>\n",
       "    </tr>\n",
       "  </tbody>\n",
       "</table>\n",
       "</div>"
      ],
      "text/plain": [
       "               pair  similarity\n",
       "0  (item_0, item_1)    0.765563"
      ]
     },
     "metadata": {},
     "output_type": "display_data"
    }
   ],
   "source": [
    "clean_search = cleanTextBooks(search_list)\n",
    "norm_clean_search = [' '.join(text) for text in clean_search]\n",
    "print(norm_clean_search)\n",
    "\n",
    "vectorizer = TfidfVectorizer(min_df=0.0, max_df=1.0, ngram_range=(1,1))\n",
    "feature_matrix = vectorizer.fit_transform(norm_clean_search).astype(float)\n",
    "\n",
    "pairwise_cosine_similarity = [compute_cosine_similarity(pair) for pair in search_pairs]\n",
    "df = pd.DataFrame({'pair': search_pairs, 'similarity': pairwise_cosine_similarity})\n",
    "display(df.head())\n"
   ]
  },
  {
   "cell_type": "code",
   "execution_count": 126,
   "metadata": {},
   "outputs": [],
   "source": [
    "search_20 = \"Formats and Editions of Six easy pieces : [essentials of ...www.worldcat.org › title › oclc › editions Title / Author, Type, Language, Date / Edition, Publication. 1. Six easy pieces : [essentials of physics, explained by its most brilliant teacher], 1. Six easy pieces ...\"\n",
    "book = 'Six Easy Pieces: Essentials of Physics Explained by Its Most Brilliant Teacher'\n",
    "\n",
    "search_list = [search_20, book]\n",
    "\n",
    "searchID_vals = [\"item_\" + str(i) for i in range(len(search_list))]\n",
    "\n",
    "search_dict = dict(zip(searchID_vals, search_list))\n",
    "\n",
    "search_ids = list(search_dict.keys())\n",
    "\n",
    "search_pairs = []\n",
    "\n",
    "for i, v in enumerate(search_ids):\n",
    "    for j in search_ids[i+1:]:\n",
    "        search_pairs.append((search_ids[i],j))"
   ]
  },
  {
   "cell_type": "code",
   "execution_count": 128,
   "metadata": {},
   "outputs": [
    {
     "name": "stdout",
     "output_type": "stream",
     "text": [
      "['format edition six easy piece essential wwwworldcatorg title oclc edition title author type language date edition publication six easy piece essential physic explained brilliant teacher six easy piece', 'six easy piece essential physic explained brilliant teacher']\n"
     ]
    },
    {
     "data": {
      "text/html": [
       "<div>\n",
       "<style scoped>\n",
       "    .dataframe tbody tr th:only-of-type {\n",
       "        vertical-align: middle;\n",
       "    }\n",
       "\n",
       "    .dataframe tbody tr th {\n",
       "        vertical-align: top;\n",
       "    }\n",
       "\n",
       "    .dataframe thead th {\n",
       "        text-align: right;\n",
       "    }\n",
       "</style>\n",
       "<table border=\"1\" class=\"dataframe\">\n",
       "  <thead>\n",
       "    <tr style=\"text-align: right;\">\n",
       "      <th></th>\n",
       "      <th>pair</th>\n",
       "      <th>similarity</th>\n",
       "    </tr>\n",
       "  </thead>\n",
       "  <tbody>\n",
       "    <tr>\n",
       "      <th>0</th>\n",
       "      <td>(item_0, item_1)</td>\n",
       "      <td>0.606411</td>\n",
       "    </tr>\n",
       "  </tbody>\n",
       "</table>\n",
       "</div>"
      ],
      "text/plain": [
       "               pair  similarity\n",
       "0  (item_0, item_1)    0.606411"
      ]
     },
     "metadata": {},
     "output_type": "display_data"
    }
   ],
   "source": [
    "clean_search = cleanTextBooks(search_list)\n",
    "norm_clean_search = [' '.join(text) for text in clean_search]\n",
    "print(norm_clean_search)\n",
    "\n",
    "vectorizer = TfidfVectorizer(min_df=0.0, max_df=1.0, ngram_range=(1,1))\n",
    "feature_matrix = vectorizer.fit_transform(norm_clean_search).astype(float)\n",
    "\n",
    "pairwise_cosine_similarity = [compute_cosine_similarity(pair) for pair in search_pairs]\n",
    "df = pd.DataFrame({'pair': search_pairs, 'similarity': pairwise_cosine_similarity})\n",
    "display(df.head())"
   ]
  },
  {
   "cell_type": "markdown",
   "metadata": {},
   "source": [
    "***c) Which one has the highest similarity measure?***\n",
    "\n",
    "In both instances the first result scored significantly higher than the 20th result (0.83/0.65 and .77/0.61). Interestingly, the dropoff in cosine similarity between the 1st and 20th results was somewhat linear (i.e the gap between scores was almost identical). "
   ]
  }
 ],
 "metadata": {
  "hide_input": false,
  "kernelspec": {
   "display_name": "Python 3",
   "language": "python",
   "name": "python3"
  },
  "language_info": {
   "codemirror_mode": {
    "name": "ipython",
    "version": 3
   },
   "file_extension": ".py",
   "mimetype": "text/x-python",
   "name": "python",
   "nbconvert_exporter": "python",
   "pygments_lexer": "ipython3",
   "version": "3.7.0"
  },
  "latex_envs": {
   "LaTeX_envs_menu_present": true,
   "autoclose": false,
   "autocomplete": true,
   "bibliofile": "biblio.bib",
   "cite_by": "apalike",
   "current_citInitial": 1,
   "eqLabelWithNumbers": true,
   "eqNumInitial": 1,
   "hotkeys": {
    "equation": "Ctrl-E",
    "itemize": "Ctrl-I"
   },
   "labels_anchors": false,
   "latex_user_defs": false,
   "report_style_numbering": false,
   "user_envs_cfg": false
  }
 },
 "nbformat": 4,
 "nbformat_minor": 2
}
